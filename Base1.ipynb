{
  "nbformat": 4,
  "nbformat_minor": 0,
  "metadata": {
    "colab": {
      "name": "Base1",
      "provenance": [],
      "collapsed_sections": [],
      "toc_visible": true,
      "include_colab_link": true
    },
    "kernelspec": {
      "display_name": "Python 3",
      "name": "python3"
    }
  },
  "cells": [
    {
      "cell_type": "markdown",
      "metadata": {
        "id": "view-in-github",
        "colab_type": "text"
      },
      "source": [
        "<a href=\"https://colab.research.google.com/github/KanonJager/Practicas-3-bases/blob/Practicas/Base1.ipynb\" target=\"_parent\"><img src=\"https://colab.research.google.com/assets/colab-badge.svg\" alt=\"Open In Colab\"/></a>"
      ]
    },
    {
      "cell_type": "code",
      "metadata": {
        "id": "ooK7JgTrKgsD",
        "colab_type": "code",
        "colab": {}
      },
      "source": [
        "import pandas as pd\n",
        "import numpy as np\n",
        "import missingno as msno"
      ],
      "execution_count": 0,
      "outputs": []
    },
    {
      "cell_type": "code",
      "metadata": {
        "id": "hErJg9DjMGeM",
        "colab_type": "code",
        "outputId": "f830d3f7-c2f7-4a93-d8b5-35872165862a",
        "colab": {
          "base_uri": "https://localhost:8080/",
          "height": 343
        }
      },
      "source": [
        "path = 'patient.csv'\n",
        "df = pd.read_csv(path, encoding='latin', error_bad_lines=False)\n",
        "df.head()"
      ],
      "execution_count": 0,
      "outputs": [
        {
          "output_type": "execute_result",
          "data": {
            "text/html": [
              "<div>\n",
              "<style scoped>\n",
              "    .dataframe tbody tr th:only-of-type {\n",
              "        vertical-align: middle;\n",
              "    }\n",
              "\n",
              "    .dataframe tbody tr th {\n",
              "        vertical-align: top;\n",
              "    }\n",
              "\n",
              "    .dataframe thead th {\n",
              "        text-align: right;\n",
              "    }\n",
              "</style>\n",
              "<table border=\"1\" class=\"dataframe\">\n",
              "  <thead>\n",
              "    <tr style=\"text-align: right;\">\n",
              "      <th></th>\n",
              "      <th>id</th>\n",
              "      <th>sex</th>\n",
              "      <th>birth_year</th>\n",
              "      <th>country</th>\n",
              "      <th>region</th>\n",
              "      <th>group</th>\n",
              "      <th>infection_reason</th>\n",
              "      <th>infection_order</th>\n",
              "      <th>infected_by</th>\n",
              "      <th>contact_number</th>\n",
              "      <th>confirmed_date</th>\n",
              "      <th>released_date</th>\n",
              "      <th>deceased_date</th>\n",
              "      <th>state</th>\n",
              "    </tr>\n",
              "  </thead>\n",
              "  <tbody>\n",
              "    <tr>\n",
              "      <th>0</th>\n",
              "      <td>1</td>\n",
              "      <td>female</td>\n",
              "      <td>1984.0</td>\n",
              "      <td>China</td>\n",
              "      <td>filtered at airport</td>\n",
              "      <td>NaN</td>\n",
              "      <td>visit to Wuhan</td>\n",
              "      <td>1.0</td>\n",
              "      <td>NaN</td>\n",
              "      <td>45.0</td>\n",
              "      <td>2020-01-20</td>\n",
              "      <td>2020-02-06</td>\n",
              "      <td>NaN</td>\n",
              "      <td>released</td>\n",
              "    </tr>\n",
              "    <tr>\n",
              "      <th>1</th>\n",
              "      <td>2</td>\n",
              "      <td>male</td>\n",
              "      <td>1964.0</td>\n",
              "      <td>Korea</td>\n",
              "      <td>filtered at airport</td>\n",
              "      <td>NaN</td>\n",
              "      <td>visit to Wuhan</td>\n",
              "      <td>1.0</td>\n",
              "      <td>NaN</td>\n",
              "      <td>75.0</td>\n",
              "      <td>2020-01-24</td>\n",
              "      <td>2020-02-05</td>\n",
              "      <td>NaN</td>\n",
              "      <td>released</td>\n",
              "    </tr>\n",
              "    <tr>\n",
              "      <th>2</th>\n",
              "      <td>3</td>\n",
              "      <td>male</td>\n",
              "      <td>1966.0</td>\n",
              "      <td>Korea</td>\n",
              "      <td>capital area</td>\n",
              "      <td>NaN</td>\n",
              "      <td>visit to Wuhan</td>\n",
              "      <td>1.0</td>\n",
              "      <td>NaN</td>\n",
              "      <td>16.0</td>\n",
              "      <td>2020-01-26</td>\n",
              "      <td>2020-02-12</td>\n",
              "      <td>NaN</td>\n",
              "      <td>released</td>\n",
              "    </tr>\n",
              "    <tr>\n",
              "      <th>3</th>\n",
              "      <td>4</td>\n",
              "      <td>male</td>\n",
              "      <td>1964.0</td>\n",
              "      <td>Korea</td>\n",
              "      <td>capital area</td>\n",
              "      <td>NaN</td>\n",
              "      <td>visit to Wuhan</td>\n",
              "      <td>1.0</td>\n",
              "      <td>NaN</td>\n",
              "      <td>95.0</td>\n",
              "      <td>2020-01-27</td>\n",
              "      <td>2020-02-09</td>\n",
              "      <td>NaN</td>\n",
              "      <td>released</td>\n",
              "    </tr>\n",
              "    <tr>\n",
              "      <th>4</th>\n",
              "      <td>5</td>\n",
              "      <td>male</td>\n",
              "      <td>1987.0</td>\n",
              "      <td>Korea</td>\n",
              "      <td>capital area</td>\n",
              "      <td>NaN</td>\n",
              "      <td>visit to Wuhan</td>\n",
              "      <td>1.0</td>\n",
              "      <td>NaN</td>\n",
              "      <td>31.0</td>\n",
              "      <td>2020-01-30</td>\n",
              "      <td>2020-03-02</td>\n",
              "      <td>NaN</td>\n",
              "      <td>released</td>\n",
              "    </tr>\n",
              "  </tbody>\n",
              "</table>\n",
              "</div>"
            ],
            "text/plain": [
              "   id     sex  birth_year  ... released_date deceased_date     state\n",
              "0   1  female      1984.0  ...    2020-02-06           NaN  released\n",
              "1   2    male      1964.0  ...    2020-02-05           NaN  released\n",
              "2   3    male      1966.0  ...    2020-02-12           NaN  released\n",
              "3   4    male      1964.0  ...    2020-02-09           NaN  released\n",
              "4   5    male      1987.0  ...    2020-03-02           NaN  released\n",
              "\n",
              "[5 rows x 14 columns]"
            ]
          },
          "metadata": {
            "tags": []
          },
          "execution_count": 209
        }
      ]
    },
    {
      "cell_type": "code",
      "metadata": {
        "id": "xKZhW7DNXP5X",
        "colab_type": "code",
        "outputId": "f8e8dce1-559d-451a-fe7d-bee1546b622e",
        "colab": {
          "base_uri": "https://localhost:8080/",
          "height": 340
        }
      },
      "source": [
        "#General Status\n",
        "df.info()"
      ],
      "execution_count": 0,
      "outputs": [
        {
          "output_type": "stream",
          "text": [
            "<class 'pandas.core.frame.DataFrame'>\n",
            "RangeIndex: 5766 entries, 0 to 5765\n",
            "Data columns (total 14 columns):\n",
            "id                  5766 non-null int64\n",
            "sex                 421 non-null object\n",
            "birth_year          408 non-null float64\n",
            "country             5765 non-null object\n",
            "region              409 non-null object\n",
            "group               83 non-null object\n",
            "infection_reason    146 non-null object\n",
            "infection_order     35 non-null float64\n",
            "infected_by         70 non-null float64\n",
            "contact_number      50 non-null float64\n",
            "confirmed_date      5765 non-null object\n",
            "released_date       38 non-null object\n",
            "deceased_date       23 non-null object\n",
            "state               5765 non-null object\n",
            "dtypes: float64(4), int64(1), object(9)\n",
            "memory usage: 630.8+ KB\n"
          ],
          "name": "stdout"
        }
      ]
    },
    {
      "cell_type": "code",
      "metadata": {
        "id": "hGF88ZuCXbpd",
        "colab_type": "code",
        "outputId": "2d02f9d7-21bc-4fc5-ec82-7bf5c481ce39",
        "colab": {
          "base_uri": "https://localhost:8080/",
          "height": 34
        }
      },
      "source": [
        "#Shape of dataframe\n",
        "df.shape"
      ],
      "execution_count": 0,
      "outputs": [
        {
          "output_type": "execute_result",
          "data": {
            "text/plain": [
              "(5766, 14)"
            ]
          },
          "metadata": {
            "tags": []
          },
          "execution_count": 211
        }
      ]
    },
    {
      "cell_type": "code",
      "metadata": {
        "id": "jppv3sbaXkDg",
        "colab_type": "code",
        "outputId": "3780e9ec-91cc-4f57-879c-da75ecf9b324",
        "colab": {
          "base_uri": "https://localhost:8080/",
          "height": 34
        }
      },
      "source": [
        "#Number of rows\n",
        "df.shape[0]\n",
        "\n"
      ],
      "execution_count": 0,
      "outputs": [
        {
          "output_type": "execute_result",
          "data": {
            "text/plain": [
              "5766"
            ]
          },
          "metadata": {
            "tags": []
          },
          "execution_count": 212
        }
      ]
    },
    {
      "cell_type": "code",
      "metadata": {
        "id": "vZdIInOeXwu0",
        "colab_type": "code",
        "outputId": "08a0ff66-b7f3-4c70-fe96-6b3909561191",
        "colab": {
          "base_uri": "https://localhost:8080/",
          "height": 34
        }
      },
      "source": [
        "#Number of columns\n",
        "df.shape[1]"
      ],
      "execution_count": 0,
      "outputs": [
        {
          "output_type": "execute_result",
          "data": {
            "text/plain": [
              "14"
            ]
          },
          "metadata": {
            "tags": []
          },
          "execution_count": 213
        }
      ]
    },
    {
      "cell_type": "code",
      "metadata": {
        "id": "EjoXoeW0X0uq",
        "colab_type": "code",
        "outputId": "2bc2c086-0a0c-469c-e104-e2d55e5133f4",
        "colab": {
          "base_uri": "https://localhost:8080/",
          "height": 255
        }
      },
      "source": [
        "#Column Names\n",
        "df.columns.values.tolist()"
      ],
      "execution_count": 0,
      "outputs": [
        {
          "output_type": "execute_result",
          "data": {
            "text/plain": [
              "['id',\n",
              " 'sex',\n",
              " 'birth_year',\n",
              " 'country',\n",
              " 'region',\n",
              " 'group',\n",
              " 'infection_reason',\n",
              " 'infection_order',\n",
              " 'infected_by',\n",
              " 'contact_number',\n",
              " 'confirmed_date',\n",
              " 'released_date',\n",
              " 'deceased_date',\n",
              " 'state']"
            ]
          },
          "metadata": {
            "tags": []
          },
          "execution_count": 214
        }
      ]
    },
    {
      "cell_type": "code",
      "metadata": {
        "id": "FfLIztXIX4Cq",
        "colab_type": "code",
        "outputId": "8b6fd0b6-d4b1-4114-9c09-0c998de50f19",
        "colab": {
          "base_uri": "https://localhost:8080/",
          "height": 272
        }
      },
      "source": [
        "#Column Data Types\n",
        "df.dtypes"
      ],
      "execution_count": 0,
      "outputs": [
        {
          "output_type": "execute_result",
          "data": {
            "text/plain": [
              "id                    int64\n",
              "sex                  object\n",
              "birth_year          float64\n",
              "country              object\n",
              "region               object\n",
              "group                object\n",
              "infection_reason     object\n",
              "infection_order     float64\n",
              "infected_by         float64\n",
              "contact_number      float64\n",
              "confirmed_date       object\n",
              "released_date        object\n",
              "deceased_date        object\n",
              "state                object\n",
              "dtype: object"
            ]
          },
          "metadata": {
            "tags": []
          },
          "execution_count": 215
        }
      ]
    },
    {
      "cell_type": "code",
      "metadata": {
        "id": "aRvGQCtJX81o",
        "colab_type": "code",
        "outputId": "dda1997d-c61b-41b1-c797-36b0bba6373e",
        "colab": {
          "base_uri": "https://localhost:8080/",
          "height": 34
        }
      },
      "source": [
        "# Are there missing values?\n",
        "\n",
        "df.isnull().any().any()"
      ],
      "execution_count": 0,
      "outputs": [
        {
          "output_type": "execute_result",
          "data": {
            "text/plain": [
              "True"
            ]
          },
          "metadata": {
            "tags": []
          },
          "execution_count": 216
        }
      ]
    },
    {
      "cell_type": "code",
      "metadata": {
        "id": "KDezaXOYYB3V",
        "colab_type": "code",
        "outputId": "f459c0bc-9a06-40ed-8378-1133eaa1e3da",
        "colab": {
          "base_uri": "https://localhost:8080/",
          "height": 721
        }
      },
      "source": [
        "msno.matrix(df)"
      ],
      "execution_count": 0,
      "outputs": [
        {
          "output_type": "execute_result",
          "data": {
            "text/plain": [
              "<matplotlib.axes._subplots.AxesSubplot at 0x7f55f1b067f0>"
            ]
          },
          "metadata": {
            "tags": []
          },
          "execution_count": 217
        },
        {
          "output_type": "display_data",
          "data": {
            "image/png": "[encoded data removed]",
            "text/plain": [
              "<Figure size 1800x720 with 2 Axes>"
            ]
          },
          "metadata": {
            "tags": []
          }
        }
      ]
    },
    {
      "cell_type": "code",
      "metadata": {
        "id": "I06FYdKlYIct",
        "colab_type": "code",
        "colab": {}
      },
      "source": [
        "df.replace({' ': np.nan}, inplace=True)"
      ],
      "execution_count": 0,
      "outputs": []
    },
    {
      "cell_type": "code",
      "metadata": {
        "id": "LwTcPLmoYOrn",
        "colab_type": "code",
        "outputId": "fc7087cb-f0c5-4f7a-ef67-7b8281db445a",
        "colab": {
          "base_uri": "https://localhost:8080/",
          "height": 34
        }
      },
      "source": [
        "\n",
        "df.isnull().any().any()"
      ],
      "execution_count": 0,
      "outputs": [
        {
          "output_type": "execute_result",
          "data": {
            "text/plain": [
              "True"
            ]
          },
          "metadata": {
            "tags": []
          },
          "execution_count": 219
        }
      ]
    },
    {
      "cell_type": "code",
      "metadata": {
        "id": "TQyw18cFYScu",
        "colab_type": "code",
        "outputId": "9ae57e12-3fba-4720-979d-88320df4157d",
        "colab": {
          "base_uri": "https://localhost:8080/",
          "height": 721
        }
      },
      "source": [
        "msno.matrix(df)"
      ],
      "execution_count": 0,
      "outputs": [
        {
          "output_type": "execute_result",
          "data": {
            "text/plain": [
              "<matplotlib.axes._subplots.AxesSubplot at 0x7f55f1a63c50>"
            ]
          },
          "metadata": {
            "tags": []
          },
          "execution_count": 220
        },
        {
          "output_type": "display_data",
          "data": {
            "image/png": "[encoded data removed]",
            "text/plain": [
              "<Figure size 1800x720 with 2 Axes>"
            ]
          },
          "metadata": {
            "tags": []
          }
        }
      ]
    },
    {
      "cell_type": "code",
      "metadata": {
        "id": "JB6lO4-2YbRS",
        "colab_type": "code",
        "outputId": "01dc9df2-8d44-4058-e359-8f6a2fd24963",
        "colab": {
          "base_uri": "https://localhost:8080/",
          "height": 748
        }
      },
      "source": [
        "msno.bar(df)"
      ],
      "execution_count": 0,
      "outputs": [
        {
          "output_type": "execute_result",
          "data": {
            "text/plain": [
              "<matplotlib.axes._subplots.AxesSubplot at 0x7f55f19f6208>"
            ]
          },
          "metadata": {
            "tags": []
          },
          "execution_count": 221
        },
        {
          "output_type": "display_data",
          "data": {
            "image/png": "[encoded data removed]",
            "text/plain": [
              "<Figure size 1728x720 with 3 Axes>"
            ]
          },
          "metadata": {
            "tags": []
          }
        }
      ]
    },
    {
      "cell_type": "code",
      "metadata": {
        "id": "xmW5va2jYc17",
        "colab_type": "code",
        "outputId": "4fc4361a-15fb-4338-b6c2-f80c852d70fe",
        "colab": {
          "base_uri": "https://localhost:8080/",
          "height": 238
        }
      },
      "source": [
        "df.columns[df.isnull().any()].tolist()"
      ],
      "execution_count": 0,
      "outputs": [
        {
          "output_type": "execute_result",
          "data": {
            "text/plain": [
              "['sex',\n",
              " 'birth_year',\n",
              " 'country',\n",
              " 'region',\n",
              " 'group',\n",
              " 'infection_reason',\n",
              " 'infection_order',\n",
              " 'infected_by',\n",
              " 'contact_number',\n",
              " 'confirmed_date',\n",
              " 'released_date',\n",
              " 'deceased_date',\n",
              " 'state']"
            ]
          },
          "metadata": {
            "tags": []
          },
          "execution_count": 222
        }
      ]
    },
    {
      "cell_type": "code",
      "metadata": {
        "id": "ncEUEO2WYkDw",
        "colab_type": "code",
        "outputId": "ec329206-28fb-4b35-be33-482d0c737e58",
        "colab": {
          "base_uri": "https://localhost:8080/",
          "height": 297
        }
      },
      "source": [
        "df.describe()"
      ],
      "execution_count": 0,
      "outputs": [
        {
          "output_type": "execute_result",
          "data": {
            "text/html": [
              "<div>\n",
              "<style scoped>\n",
              "    .dataframe tbody tr th:only-of-type {\n",
              "        vertical-align: middle;\n",
              "    }\n",
              "\n",
              "    .dataframe tbody tr th {\n",
              "        vertical-align: top;\n",
              "    }\n",
              "\n",
              "    .dataframe thead th {\n",
              "        text-align: right;\n",
              "    }\n",
              "</style>\n",
              "<table border=\"1\" class=\"dataframe\">\n",
              "  <thead>\n",
              "    <tr style=\"text-align: right;\">\n",
              "      <th></th>\n",
              "      <th>id</th>\n",
              "      <th>birth_year</th>\n",
              "      <th>infection_order</th>\n",
              "      <th>infected_by</th>\n",
              "      <th>contact_number</th>\n",
              "    </tr>\n",
              "  </thead>\n",
              "  <tbody>\n",
              "    <tr>\n",
              "      <th>count</th>\n",
              "      <td>5766.000000</td>\n",
              "      <td>408.000000</td>\n",
              "      <td>35.000000</td>\n",
              "      <td>70.000000</td>\n",
              "      <td>50.000000</td>\n",
              "    </tr>\n",
              "    <tr>\n",
              "      <th>mean</th>\n",
              "      <td>2883.500000</td>\n",
              "      <td>1974.198529</td>\n",
              "      <td>2.285714</td>\n",
              "      <td>379.000000</td>\n",
              "      <td>69.400000</td>\n",
              "    </tr>\n",
              "    <tr>\n",
              "      <th>std</th>\n",
              "      <td>1664.645157</td>\n",
              "      <td>17.596133</td>\n",
              "      <td>1.405272</td>\n",
              "      <td>540.247528</td>\n",
              "      <td>182.876338</td>\n",
              "    </tr>\n",
              "    <tr>\n",
              "      <th>min</th>\n",
              "      <td>1.000000</td>\n",
              "      <td>1932.000000</td>\n",
              "      <td>1.000000</td>\n",
              "      <td>3.000000</td>\n",
              "      <td>0.000000</td>\n",
              "    </tr>\n",
              "    <tr>\n",
              "      <th>25%</th>\n",
              "      <td>1442.250000</td>\n",
              "      <td>1960.750000</td>\n",
              "      <td>1.000000</td>\n",
              "      <td>29.250000</td>\n",
              "      <td>3.000000</td>\n",
              "    </tr>\n",
              "    <tr>\n",
              "      <th>50%</th>\n",
              "      <td>2883.500000</td>\n",
              "      <td>1974.000000</td>\n",
              "      <td>2.000000</td>\n",
              "      <td>126.000000</td>\n",
              "      <td>15.500000</td>\n",
              "    </tr>\n",
              "    <tr>\n",
              "      <th>75%</th>\n",
              "      <td>4324.750000</td>\n",
              "      <td>1988.250000</td>\n",
              "      <td>3.000000</td>\n",
              "      <td>563.250000</td>\n",
              "      <td>44.500000</td>\n",
              "    </tr>\n",
              "    <tr>\n",
              "      <th>max</th>\n",
              "      <td>5766.000000</td>\n",
              "      <td>2018.000000</td>\n",
              "      <td>6.000000</td>\n",
              "      <td>2621.000000</td>\n",
              "      <td>1160.000000</td>\n",
              "    </tr>\n",
              "  </tbody>\n",
              "</table>\n",
              "</div>"
            ],
            "text/plain": [
              "                id   birth_year  infection_order  infected_by  contact_number\n",
              "count  5766.000000   408.000000        35.000000    70.000000       50.000000\n",
              "mean   2883.500000  1974.198529         2.285714   379.000000       69.400000\n",
              "std    1664.645157    17.596133         1.405272   540.247528      182.876338\n",
              "min       1.000000  1932.000000         1.000000     3.000000        0.000000\n",
              "25%    1442.250000  1960.750000         1.000000    29.250000        3.000000\n",
              "50%    2883.500000  1974.000000         2.000000   126.000000       15.500000\n",
              "75%    4324.750000  1988.250000         3.000000   563.250000       44.500000\n",
              "max    5766.000000  2018.000000         6.000000  2621.000000     1160.000000"
            ]
          },
          "metadata": {
            "tags": []
          },
          "execution_count": 223
        }
      ]
    },
    {
      "cell_type": "code",
      "metadata": {
        "id": "5I_5xnXWYpIe",
        "colab_type": "code",
        "outputId": "267137aa-5b41-48e6-fd6e-c404538b5d29",
        "colab": {
          "base_uri": "https://localhost:8080/",
          "height": 117
        }
      },
      "source": [
        "#Select specific row index  (5 regritro)\n",
        "\n",
        "df.loc[[4]]"
      ],
      "execution_count": 0,
      "outputs": [
        {
          "output_type": "execute_result",
          "data": {
            "text/html": [
              "<div>\n",
              "<style scoped>\n",
              "    .dataframe tbody tr th:only-of-type {\n",
              "        vertical-align: middle;\n",
              "    }\n",
              "\n",
              "    .dataframe tbody tr th {\n",
              "        vertical-align: top;\n",
              "    }\n",
              "\n",
              "    .dataframe thead th {\n",
              "        text-align: right;\n",
              "    }\n",
              "</style>\n",
              "<table border=\"1\" class=\"dataframe\">\n",
              "  <thead>\n",
              "    <tr style=\"text-align: right;\">\n",
              "      <th></th>\n",
              "      <th>id</th>\n",
              "      <th>sex</th>\n",
              "      <th>birth_year</th>\n",
              "      <th>country</th>\n",
              "      <th>region</th>\n",
              "      <th>group</th>\n",
              "      <th>infection_reason</th>\n",
              "      <th>infection_order</th>\n",
              "      <th>infected_by</th>\n",
              "      <th>contact_number</th>\n",
              "      <th>confirmed_date</th>\n",
              "      <th>released_date</th>\n",
              "      <th>deceased_date</th>\n",
              "      <th>state</th>\n",
              "    </tr>\n",
              "  </thead>\n",
              "  <tbody>\n",
              "    <tr>\n",
              "      <th>4</th>\n",
              "      <td>5</td>\n",
              "      <td>male</td>\n",
              "      <td>1987.0</td>\n",
              "      <td>Korea</td>\n",
              "      <td>capital area</td>\n",
              "      <td>NaN</td>\n",
              "      <td>visit to Wuhan</td>\n",
              "      <td>1.0</td>\n",
              "      <td>NaN</td>\n",
              "      <td>31.0</td>\n",
              "      <td>2020-01-30</td>\n",
              "      <td>2020-03-02</td>\n",
              "      <td>NaN</td>\n",
              "      <td>released</td>\n",
              "    </tr>\n",
              "  </tbody>\n",
              "</table>\n",
              "</div>"
            ],
            "text/plain": [
              "   id   sex  birth_year  ... released_date deceased_date     state\n",
              "4   5  male      1987.0  ...    2020-03-02           NaN  released\n",
              "\n",
              "[1 rows x 14 columns]"
            ]
          },
          "metadata": {
            "tags": []
          },
          "execution_count": 224
        }
      ]
    },
    {
      "cell_type": "code",
      "metadata": {
        "id": "6Yd8px0HYt8F",
        "colab_type": "code",
        "outputId": "7e357d0b-6822-49dc-fe47-3eb66830ff2a",
        "colab": {
          "base_uri": "https://localhost:8080/",
          "height": 419
        }
      },
      "source": [
        "#Select specific row indices (veremos del 100 al 107)\n",
        "df.loc[99:106]"
      ],
      "execution_count": 0,
      "outputs": [
        {
          "output_type": "execute_result",
          "data": {
            "text/html": [
              "<div>\n",
              "<style scoped>\n",
              "    .dataframe tbody tr th:only-of-type {\n",
              "        vertical-align: middle;\n",
              "    }\n",
              "\n",
              "    .dataframe tbody tr th {\n",
              "        vertical-align: top;\n",
              "    }\n",
              "\n",
              "    .dataframe thead th {\n",
              "        text-align: right;\n",
              "    }\n",
              "</style>\n",
              "<table border=\"1\" class=\"dataframe\">\n",
              "  <thead>\n",
              "    <tr style=\"text-align: right;\">\n",
              "      <th></th>\n",
              "      <th>id</th>\n",
              "      <th>sex</th>\n",
              "      <th>birth_year</th>\n",
              "      <th>country</th>\n",
              "      <th>region</th>\n",
              "      <th>group</th>\n",
              "      <th>infection_reason</th>\n",
              "      <th>infection_order</th>\n",
              "      <th>infected_by</th>\n",
              "      <th>contact_number</th>\n",
              "      <th>confirmed_date</th>\n",
              "      <th>released_date</th>\n",
              "      <th>deceased_date</th>\n",
              "      <th>state</th>\n",
              "    </tr>\n",
              "  </thead>\n",
              "  <tbody>\n",
              "    <tr>\n",
              "      <th>99</th>\n",
              "      <td>100</td>\n",
              "      <td>NaN</td>\n",
              "      <td>NaN</td>\n",
              "      <td>Korea</td>\n",
              "      <td>NaN</td>\n",
              "      <td>NaN</td>\n",
              "      <td>NaN</td>\n",
              "      <td>NaN</td>\n",
              "      <td>NaN</td>\n",
              "      <td>NaN</td>\n",
              "      <td>2020-02-20</td>\n",
              "      <td>NaN</td>\n",
              "      <td>NaN</td>\n",
              "      <td>isolated</td>\n",
              "    </tr>\n",
              "    <tr>\n",
              "      <th>100</th>\n",
              "      <td>101</td>\n",
              "      <td>NaN</td>\n",
              "      <td>NaN</td>\n",
              "      <td>Korea</td>\n",
              "      <td>NaN</td>\n",
              "      <td>NaN</td>\n",
              "      <td>NaN</td>\n",
              "      <td>NaN</td>\n",
              "      <td>NaN</td>\n",
              "      <td>NaN</td>\n",
              "      <td>2020-02-20</td>\n",
              "      <td>NaN</td>\n",
              "      <td>NaN</td>\n",
              "      <td>isolated</td>\n",
              "    </tr>\n",
              "    <tr>\n",
              "      <th>101</th>\n",
              "      <td>102</td>\n",
              "      <td>NaN</td>\n",
              "      <td>NaN</td>\n",
              "      <td>Korea</td>\n",
              "      <td>NaN</td>\n",
              "      <td>NaN</td>\n",
              "      <td>NaN</td>\n",
              "      <td>NaN</td>\n",
              "      <td>NaN</td>\n",
              "      <td>NaN</td>\n",
              "      <td>2020-02-20</td>\n",
              "      <td>NaN</td>\n",
              "      <td>NaN</td>\n",
              "      <td>isolated</td>\n",
              "    </tr>\n",
              "    <tr>\n",
              "      <th>102</th>\n",
              "      <td>103</td>\n",
              "      <td>NaN</td>\n",
              "      <td>NaN</td>\n",
              "      <td>NaN</td>\n",
              "      <td>NaN</td>\n",
              "      <td>NaN</td>\n",
              "      <td>NaN</td>\n",
              "      <td>NaN</td>\n",
              "      <td>NaN</td>\n",
              "      <td>NaN</td>\n",
              "      <td>NaN</td>\n",
              "      <td>NaN</td>\n",
              "      <td>NaN</td>\n",
              "      <td>NaN</td>\n",
              "    </tr>\n",
              "    <tr>\n",
              "      <th>103</th>\n",
              "      <td>104</td>\n",
              "      <td>male</td>\n",
              "      <td>1957.0</td>\n",
              "      <td>Korea</td>\n",
              "      <td>Gyeongsangbuk-do</td>\n",
              "      <td>Cheongdo Daenam Hospital</td>\n",
              "      <td>NaN</td>\n",
              "      <td>NaN</td>\n",
              "      <td>NaN</td>\n",
              "      <td>NaN</td>\n",
              "      <td>2020-02-20</td>\n",
              "      <td>NaN</td>\n",
              "      <td>2020-02-19</td>\n",
              "      <td>deceased</td>\n",
              "    </tr>\n",
              "    <tr>\n",
              "      <th>104</th>\n",
              "      <td>105</td>\n",
              "      <td>female</td>\n",
              "      <td>1965.0</td>\n",
              "      <td>Korea</td>\n",
              "      <td>Gyeongsangbuk-do</td>\n",
              "      <td>Shincheonji Church</td>\n",
              "      <td>visit to Daegu</td>\n",
              "      <td>NaN</td>\n",
              "      <td>NaN</td>\n",
              "      <td>NaN</td>\n",
              "      <td>2020-02-21</td>\n",
              "      <td>NaN</td>\n",
              "      <td>NaN</td>\n",
              "      <td>isolated</td>\n",
              "    </tr>\n",
              "    <tr>\n",
              "      <th>105</th>\n",
              "      <td>106</td>\n",
              "      <td>female</td>\n",
              "      <td>1991.0</td>\n",
              "      <td>Korea</td>\n",
              "      <td>Gyeongsangbuk-do</td>\n",
              "      <td>Shincheonji Church</td>\n",
              "      <td>visit to Daegu</td>\n",
              "      <td>NaN</td>\n",
              "      <td>NaN</td>\n",
              "      <td>NaN</td>\n",
              "      <td>2020-02-21</td>\n",
              "      <td>NaN</td>\n",
              "      <td>NaN</td>\n",
              "      <td>isolated</td>\n",
              "    </tr>\n",
              "    <tr>\n",
              "      <th>106</th>\n",
              "      <td>107</td>\n",
              "      <td>male</td>\n",
              "      <td>1953.0</td>\n",
              "      <td>Korea</td>\n",
              "      <td>Gyeongsangbuk-do</td>\n",
              "      <td>Cheongdo Daenam Hospital</td>\n",
              "      <td>NaN</td>\n",
              "      <td>NaN</td>\n",
              "      <td>NaN</td>\n",
              "      <td>NaN</td>\n",
              "      <td>2020-02-21</td>\n",
              "      <td>NaN</td>\n",
              "      <td>2020-02-24</td>\n",
              "      <td>deceased</td>\n",
              "    </tr>\n",
              "  </tbody>\n",
              "</table>\n",
              "</div>"
            ],
            "text/plain": [
              "      id     sex  birth_year  ... released_date deceased_date     state\n",
              "99   100     NaN         NaN  ...           NaN           NaN  isolated\n",
              "100  101     NaN         NaN  ...           NaN           NaN  isolated\n",
              "101  102     NaN         NaN  ...           NaN           NaN  isolated\n",
              "102  103     NaN         NaN  ...           NaN           NaN       NaN\n",
              "103  104    male      1957.0  ...           NaN    2020-02-19  deceased\n",
              "104  105  female      1965.0  ...           NaN           NaN  isolated\n",
              "105  106  female      1991.0  ...           NaN           NaN  isolated\n",
              "106  107    male      1953.0  ...           NaN    2020-02-24  deceased\n",
              "\n",
              "[8 rows x 14 columns]"
            ]
          },
          "metadata": {
            "tags": []
          },
          "execution_count": 225
        }
      ]
    },
    {
      "cell_type": "code",
      "metadata": {
        "id": "F_z159afYyYk",
        "colab_type": "code",
        "outputId": "5feb0854-3f92-4172-9181-e97d0ac818e8",
        "colab": {
          "base_uri": "https://localhost:8080/",
          "height": 326
        }
      },
      "source": [
        "#Excluding Specific Row indices\n",
        "df.drop([0,24,51], axis=0).head()"
      ],
      "execution_count": 0,
      "outputs": [
        {
          "output_type": "execute_result",
          "data": {
            "text/html": [
              "<div>\n",
              "<style scoped>\n",
              "    .dataframe tbody tr th:only-of-type {\n",
              "        vertical-align: middle;\n",
              "    }\n",
              "\n",
              "    .dataframe tbody tr th {\n",
              "        vertical-align: top;\n",
              "    }\n",
              "\n",
              "    .dataframe thead th {\n",
              "        text-align: right;\n",
              "    }\n",
              "</style>\n",
              "<table border=\"1\" class=\"dataframe\">\n",
              "  <thead>\n",
              "    <tr style=\"text-align: right;\">\n",
              "      <th></th>\n",
              "      <th>id</th>\n",
              "      <th>sex</th>\n",
              "      <th>birth_year</th>\n",
              "      <th>country</th>\n",
              "      <th>region</th>\n",
              "      <th>group</th>\n",
              "      <th>infection_reason</th>\n",
              "      <th>infection_order</th>\n",
              "      <th>infected_by</th>\n",
              "      <th>contact_number</th>\n",
              "      <th>confirmed_date</th>\n",
              "      <th>released_date</th>\n",
              "      <th>deceased_date</th>\n",
              "      <th>state</th>\n",
              "    </tr>\n",
              "  </thead>\n",
              "  <tbody>\n",
              "    <tr>\n",
              "      <th>1</th>\n",
              "      <td>2</td>\n",
              "      <td>male</td>\n",
              "      <td>1964.0</td>\n",
              "      <td>Korea</td>\n",
              "      <td>filtered at airport</td>\n",
              "      <td>NaN</td>\n",
              "      <td>visit to Wuhan</td>\n",
              "      <td>1.0</td>\n",
              "      <td>NaN</td>\n",
              "      <td>75.0</td>\n",
              "      <td>2020-01-24</td>\n",
              "      <td>2020-02-05</td>\n",
              "      <td>NaN</td>\n",
              "      <td>released</td>\n",
              "    </tr>\n",
              "    <tr>\n",
              "      <th>2</th>\n",
              "      <td>3</td>\n",
              "      <td>male</td>\n",
              "      <td>1966.0</td>\n",
              "      <td>Korea</td>\n",
              "      <td>capital area</td>\n",
              "      <td>NaN</td>\n",
              "      <td>visit to Wuhan</td>\n",
              "      <td>1.0</td>\n",
              "      <td>NaN</td>\n",
              "      <td>16.0</td>\n",
              "      <td>2020-01-26</td>\n",
              "      <td>2020-02-12</td>\n",
              "      <td>NaN</td>\n",
              "      <td>released</td>\n",
              "    </tr>\n",
              "    <tr>\n",
              "      <th>3</th>\n",
              "      <td>4</td>\n",
              "      <td>male</td>\n",
              "      <td>1964.0</td>\n",
              "      <td>Korea</td>\n",
              "      <td>capital area</td>\n",
              "      <td>NaN</td>\n",
              "      <td>visit to Wuhan</td>\n",
              "      <td>1.0</td>\n",
              "      <td>NaN</td>\n",
              "      <td>95.0</td>\n",
              "      <td>2020-01-27</td>\n",
              "      <td>2020-02-09</td>\n",
              "      <td>NaN</td>\n",
              "      <td>released</td>\n",
              "    </tr>\n",
              "    <tr>\n",
              "      <th>4</th>\n",
              "      <td>5</td>\n",
              "      <td>male</td>\n",
              "      <td>1987.0</td>\n",
              "      <td>Korea</td>\n",
              "      <td>capital area</td>\n",
              "      <td>NaN</td>\n",
              "      <td>visit to Wuhan</td>\n",
              "      <td>1.0</td>\n",
              "      <td>NaN</td>\n",
              "      <td>31.0</td>\n",
              "      <td>2020-01-30</td>\n",
              "      <td>2020-03-02</td>\n",
              "      <td>NaN</td>\n",
              "      <td>released</td>\n",
              "    </tr>\n",
              "    <tr>\n",
              "      <th>5</th>\n",
              "      <td>6</td>\n",
              "      <td>male</td>\n",
              "      <td>1964.0</td>\n",
              "      <td>Korea</td>\n",
              "      <td>capital area</td>\n",
              "      <td>NaN</td>\n",
              "      <td>contact with patient</td>\n",
              "      <td>2.0</td>\n",
              "      <td>3.0</td>\n",
              "      <td>17.0</td>\n",
              "      <td>2020-01-30</td>\n",
              "      <td>2020-02-19</td>\n",
              "      <td>NaN</td>\n",
              "      <td>released</td>\n",
              "    </tr>\n",
              "  </tbody>\n",
              "</table>\n",
              "</div>"
            ],
            "text/plain": [
              "   id   sex  birth_year  ... released_date deceased_date     state\n",
              "1   2  male      1964.0  ...    2020-02-05           NaN  released\n",
              "2   3  male      1966.0  ...    2020-02-12           NaN  released\n",
              "3   4  male      1964.0  ...    2020-02-09           NaN  released\n",
              "4   5  male      1987.0  ...    2020-03-02           NaN  released\n",
              "5   6  male      1964.0  ...    2020-02-19           NaN  released\n",
              "\n",
              "[5 rows x 14 columns]"
            ]
          },
          "metadata": {
            "tags": []
          },
          "execution_count": 226
        }
      ]
    },
    {
      "cell_type": "code",
      "metadata": {
        "id": "O_LZ_gNcY6Ae",
        "colab_type": "code",
        "outputId": "7708efcc-847b-47a7-f9aa-7e4bd72cecce",
        "colab": {
          "base_uri": "https://localhost:8080/",
          "height": 549
        }
      },
      "source": [
        "#Excluding Specific Range Row indices\n",
        "df.drop(df.index[1:5], axis=0).head(10)\n"
      ],
      "execution_count": 0,
      "outputs": [
        {
          "output_type": "execute_result",
          "data": {
            "text/html": [
              "<div>\n",
              "<style scoped>\n",
              "    .dataframe tbody tr th:only-of-type {\n",
              "        vertical-align: middle;\n",
              "    }\n",
              "\n",
              "    .dataframe tbody tr th {\n",
              "        vertical-align: top;\n",
              "    }\n",
              "\n",
              "    .dataframe thead th {\n",
              "        text-align: right;\n",
              "    }\n",
              "</style>\n",
              "<table border=\"1\" class=\"dataframe\">\n",
              "  <thead>\n",
              "    <tr style=\"text-align: right;\">\n",
              "      <th></th>\n",
              "      <th>id</th>\n",
              "      <th>sex</th>\n",
              "      <th>birth_year</th>\n",
              "      <th>country</th>\n",
              "      <th>region</th>\n",
              "      <th>group</th>\n",
              "      <th>infection_reason</th>\n",
              "      <th>infection_order</th>\n",
              "      <th>infected_by</th>\n",
              "      <th>contact_number</th>\n",
              "      <th>confirmed_date</th>\n",
              "      <th>released_date</th>\n",
              "      <th>deceased_date</th>\n",
              "      <th>state</th>\n",
              "    </tr>\n",
              "  </thead>\n",
              "  <tbody>\n",
              "    <tr>\n",
              "      <th>0</th>\n",
              "      <td>1</td>\n",
              "      <td>female</td>\n",
              "      <td>1984.0</td>\n",
              "      <td>China</td>\n",
              "      <td>filtered at airport</td>\n",
              "      <td>NaN</td>\n",
              "      <td>visit to Wuhan</td>\n",
              "      <td>1.0</td>\n",
              "      <td>NaN</td>\n",
              "      <td>45.0</td>\n",
              "      <td>2020-01-20</td>\n",
              "      <td>2020-02-06</td>\n",
              "      <td>NaN</td>\n",
              "      <td>released</td>\n",
              "    </tr>\n",
              "    <tr>\n",
              "      <th>5</th>\n",
              "      <td>6</td>\n",
              "      <td>male</td>\n",
              "      <td>1964.0</td>\n",
              "      <td>Korea</td>\n",
              "      <td>capital area</td>\n",
              "      <td>NaN</td>\n",
              "      <td>contact with patient</td>\n",
              "      <td>2.0</td>\n",
              "      <td>3.0</td>\n",
              "      <td>17.0</td>\n",
              "      <td>2020-01-30</td>\n",
              "      <td>2020-02-19</td>\n",
              "      <td>NaN</td>\n",
              "      <td>released</td>\n",
              "    </tr>\n",
              "    <tr>\n",
              "      <th>6</th>\n",
              "      <td>7</td>\n",
              "      <td>male</td>\n",
              "      <td>1991.0</td>\n",
              "      <td>Korea</td>\n",
              "      <td>capital area</td>\n",
              "      <td>NaN</td>\n",
              "      <td>visit to Wuhan</td>\n",
              "      <td>1.0</td>\n",
              "      <td>NaN</td>\n",
              "      <td>9.0</td>\n",
              "      <td>2020-01-30</td>\n",
              "      <td>2020-02-15</td>\n",
              "      <td>NaN</td>\n",
              "      <td>released</td>\n",
              "    </tr>\n",
              "    <tr>\n",
              "      <th>7</th>\n",
              "      <td>8</td>\n",
              "      <td>female</td>\n",
              "      <td>1957.0</td>\n",
              "      <td>Korea</td>\n",
              "      <td>Jeollabuk-do</td>\n",
              "      <td>NaN</td>\n",
              "      <td>visit to Wuhan</td>\n",
              "      <td>1.0</td>\n",
              "      <td>NaN</td>\n",
              "      <td>113.0</td>\n",
              "      <td>2020-01-31</td>\n",
              "      <td>2020-02-12</td>\n",
              "      <td>NaN</td>\n",
              "      <td>released</td>\n",
              "    </tr>\n",
              "    <tr>\n",
              "      <th>8</th>\n",
              "      <td>9</td>\n",
              "      <td>female</td>\n",
              "      <td>1992.0</td>\n",
              "      <td>Korea</td>\n",
              "      <td>capital area</td>\n",
              "      <td>NaN</td>\n",
              "      <td>contact with patient</td>\n",
              "      <td>2.0</td>\n",
              "      <td>5.0</td>\n",
              "      <td>2.0</td>\n",
              "      <td>2020-01-31</td>\n",
              "      <td>2020-02-24</td>\n",
              "      <td>NaN</td>\n",
              "      <td>released</td>\n",
              "    </tr>\n",
              "    <tr>\n",
              "      <th>9</th>\n",
              "      <td>10</td>\n",
              "      <td>female</td>\n",
              "      <td>1966.0</td>\n",
              "      <td>Korea</td>\n",
              "      <td>capital area</td>\n",
              "      <td>NaN</td>\n",
              "      <td>contact with patient</td>\n",
              "      <td>3.0</td>\n",
              "      <td>6.0</td>\n",
              "      <td>43.0</td>\n",
              "      <td>2020-01-31</td>\n",
              "      <td>2020-02-19</td>\n",
              "      <td>NaN</td>\n",
              "      <td>released</td>\n",
              "    </tr>\n",
              "    <tr>\n",
              "      <th>10</th>\n",
              "      <td>11</td>\n",
              "      <td>male</td>\n",
              "      <td>1995.0</td>\n",
              "      <td>Korea</td>\n",
              "      <td>capital area</td>\n",
              "      <td>NaN</td>\n",
              "      <td>contact with patient</td>\n",
              "      <td>3.0</td>\n",
              "      <td>6.0</td>\n",
              "      <td>0.0</td>\n",
              "      <td>2020-01-31</td>\n",
              "      <td>2020-02-10</td>\n",
              "      <td>NaN</td>\n",
              "      <td>released</td>\n",
              "    </tr>\n",
              "    <tr>\n",
              "      <th>11</th>\n",
              "      <td>12</td>\n",
              "      <td>male</td>\n",
              "      <td>1971.0</td>\n",
              "      <td>China</td>\n",
              "      <td>capital area</td>\n",
              "      <td>NaN</td>\n",
              "      <td>contact with patient in Japan</td>\n",
              "      <td>2.0</td>\n",
              "      <td>NaN</td>\n",
              "      <td>422.0</td>\n",
              "      <td>2020-02-01</td>\n",
              "      <td>2020-02-18</td>\n",
              "      <td>NaN</td>\n",
              "      <td>released</td>\n",
              "    </tr>\n",
              "    <tr>\n",
              "      <th>12</th>\n",
              "      <td>13</td>\n",
              "      <td>male</td>\n",
              "      <td>1992.0</td>\n",
              "      <td>Korea</td>\n",
              "      <td>filtered at airport</td>\n",
              "      <td>NaN</td>\n",
              "      <td>residence in Wuhan</td>\n",
              "      <td>1.0</td>\n",
              "      <td>NaN</td>\n",
              "      <td>0.0</td>\n",
              "      <td>2020-02-02</td>\n",
              "      <td>2020-02-24</td>\n",
              "      <td>NaN</td>\n",
              "      <td>released</td>\n",
              "    </tr>\n",
              "    <tr>\n",
              "      <th>13</th>\n",
              "      <td>14</td>\n",
              "      <td>female</td>\n",
              "      <td>1980.0</td>\n",
              "      <td>China</td>\n",
              "      <td>capital area</td>\n",
              "      <td>NaN</td>\n",
              "      <td>contact with patient</td>\n",
              "      <td>3.0</td>\n",
              "      <td>12.0</td>\n",
              "      <td>3.0</td>\n",
              "      <td>2020-02-02</td>\n",
              "      <td>2020-02-18</td>\n",
              "      <td>NaN</td>\n",
              "      <td>released</td>\n",
              "    </tr>\n",
              "  </tbody>\n",
              "</table>\n",
              "</div>"
            ],
            "text/plain": [
              "    id     sex  birth_year  ... released_date deceased_date     state\n",
              "0    1  female      1984.0  ...    2020-02-06           NaN  released\n",
              "5    6    male      1964.0  ...    2020-02-19           NaN  released\n",
              "6    7    male      1991.0  ...    2020-02-15           NaN  released\n",
              "7    8  female      1957.0  ...    2020-02-12           NaN  released\n",
              "8    9  female      1992.0  ...    2020-02-24           NaN  released\n",
              "9   10  female      1966.0  ...    2020-02-19           NaN  released\n",
              "10  11    male      1995.0  ...    2020-02-10           NaN  released\n",
              "11  12    male      1971.0  ...    2020-02-18           NaN  released\n",
              "12  13    male      1992.0  ...    2020-02-24           NaN  released\n",
              "13  14  female      1980.0  ...    2020-02-18           NaN  released\n",
              "\n",
              "[10 rows x 14 columns]"
            ]
          },
          "metadata": {
            "tags": []
          },
          "execution_count": 227
        }
      ]
    },
    {
      "cell_type": "code",
      "metadata": {
        "id": "7fO4kAEgZBbe",
        "colab_type": "code",
        "outputId": "1fadc936-4d25-4ad5-8ed6-be9b3672c678",
        "colab": {
          "base_uri": "https://localhost:8080/",
          "height": 258
        }
      },
      "source": [
        "# Subsetting based on offset from top (bottom)\n",
        "df[200:].head() #df.tail(-100) )"
      ],
      "execution_count": 0,
      "outputs": [
        {
          "output_type": "execute_result",
          "data": {
            "text/html": [
              "<div>\n",
              "<style scoped>\n",
              "    .dataframe tbody tr th:only-of-type {\n",
              "        vertical-align: middle;\n",
              "    }\n",
              "\n",
              "    .dataframe tbody tr th {\n",
              "        vertical-align: top;\n",
              "    }\n",
              "\n",
              "    .dataframe thead th {\n",
              "        text-align: right;\n",
              "    }\n",
              "</style>\n",
              "<table border=\"1\" class=\"dataframe\">\n",
              "  <thead>\n",
              "    <tr style=\"text-align: right;\">\n",
              "      <th></th>\n",
              "      <th>id</th>\n",
              "      <th>sex</th>\n",
              "      <th>birth_year</th>\n",
              "      <th>country</th>\n",
              "      <th>region</th>\n",
              "      <th>group</th>\n",
              "      <th>infection_reason</th>\n",
              "      <th>infection_order</th>\n",
              "      <th>infected_by</th>\n",
              "      <th>contact_number</th>\n",
              "      <th>confirmed_date</th>\n",
              "      <th>released_date</th>\n",
              "      <th>deceased_date</th>\n",
              "      <th>state</th>\n",
              "    </tr>\n",
              "  </thead>\n",
              "  <tbody>\n",
              "    <tr>\n",
              "      <th>200</th>\n",
              "      <td>201</td>\n",
              "      <td>NaN</td>\n",
              "      <td>NaN</td>\n",
              "      <td>Korea</td>\n",
              "      <td>NaN</td>\n",
              "      <td>NaN</td>\n",
              "      <td>NaN</td>\n",
              "      <td>NaN</td>\n",
              "      <td>NaN</td>\n",
              "      <td>NaN</td>\n",
              "      <td>2020-02-21</td>\n",
              "      <td>NaN</td>\n",
              "      <td>NaN</td>\n",
              "      <td>isolated</td>\n",
              "    </tr>\n",
              "    <tr>\n",
              "      <th>201</th>\n",
              "      <td>202</td>\n",
              "      <td>NaN</td>\n",
              "      <td>NaN</td>\n",
              "      <td>Korea</td>\n",
              "      <td>NaN</td>\n",
              "      <td>NaN</td>\n",
              "      <td>NaN</td>\n",
              "      <td>NaN</td>\n",
              "      <td>NaN</td>\n",
              "      <td>NaN</td>\n",
              "      <td>2020-02-21</td>\n",
              "      <td>NaN</td>\n",
              "      <td>NaN</td>\n",
              "      <td>isolated</td>\n",
              "    </tr>\n",
              "    <tr>\n",
              "      <th>202</th>\n",
              "      <td>203</td>\n",
              "      <td>NaN</td>\n",
              "      <td>NaN</td>\n",
              "      <td>Korea</td>\n",
              "      <td>NaN</td>\n",
              "      <td>NaN</td>\n",
              "      <td>NaN</td>\n",
              "      <td>NaN</td>\n",
              "      <td>NaN</td>\n",
              "      <td>NaN</td>\n",
              "      <td>2020-02-21</td>\n",
              "      <td>NaN</td>\n",
              "      <td>NaN</td>\n",
              "      <td>isolated</td>\n",
              "    </tr>\n",
              "    <tr>\n",
              "      <th>203</th>\n",
              "      <td>204</td>\n",
              "      <td>NaN</td>\n",
              "      <td>NaN</td>\n",
              "      <td>Korea</td>\n",
              "      <td>NaN</td>\n",
              "      <td>NaN</td>\n",
              "      <td>NaN</td>\n",
              "      <td>NaN</td>\n",
              "      <td>NaN</td>\n",
              "      <td>NaN</td>\n",
              "      <td>2020-02-21</td>\n",
              "      <td>NaN</td>\n",
              "      <td>NaN</td>\n",
              "      <td>isolated</td>\n",
              "    </tr>\n",
              "    <tr>\n",
              "      <th>204</th>\n",
              "      <td>205</td>\n",
              "      <td>female</td>\n",
              "      <td>1965.0</td>\n",
              "      <td>Korea</td>\n",
              "      <td>Gyeongsangbuk-do</td>\n",
              "      <td>Cheongdo Daenam Hospital</td>\n",
              "      <td>NaN</td>\n",
              "      <td>NaN</td>\n",
              "      <td>NaN</td>\n",
              "      <td>NaN</td>\n",
              "      <td>2020-02-22</td>\n",
              "      <td>NaN</td>\n",
              "      <td>2020-02-21</td>\n",
              "      <td>deceased</td>\n",
              "    </tr>\n",
              "  </tbody>\n",
              "</table>\n",
              "</div>"
            ],
            "text/plain": [
              "      id     sex  birth_year  ... released_date deceased_date     state\n",
              "200  201     NaN         NaN  ...           NaN           NaN  isolated\n",
              "201  202     NaN         NaN  ...           NaN           NaN  isolated\n",
              "202  203     NaN         NaN  ...           NaN           NaN  isolated\n",
              "203  204     NaN         NaN  ...           NaN           NaN  isolated\n",
              "204  205  female      1965.0  ...           NaN    2020-02-21  deceased\n",
              "\n",
              "[5 rows x 14 columns]"
            ]
          },
          "metadata": {
            "tags": []
          },
          "execution_count": 228
        }
      ]
    },
    {
      "cell_type": "code",
      "metadata": {
        "id": "pEQD8HZgZIKm",
        "colab_type": "code",
        "outputId": "29d215fb-25d9-4d25-ead2-7053d210e7bb",
        "colab": {
          "base_uri": "https://localhost:8080/",
          "height": 51
        }
      },
      "source": [
        "#Get values for crime\n",
        "df.state.values"
      ],
      "execution_count": 0,
      "outputs": [
        {
          "output_type": "execute_result",
          "data": {
            "text/plain": [
              "array(['released', 'released', 'released', ..., 'isolated', 'isolated',\n",
              "       'isolated'], dtype=object)"
            ]
          },
          "metadata": {
            "tags": []
          },
          "execution_count": 229
        }
      ]
    },
    {
      "cell_type": "code",
      "metadata": {
        "id": "5Th8rLWmZQRV",
        "colab_type": "code",
        "outputId": "3ce63277-ef21-4a8e-8a83-8e38871b9616",
        "colab": {
          "base_uri": "https://localhost:8080/",
          "height": 51
        }
      },
      "source": [
        "df['state'].values"
      ],
      "execution_count": 0,
      "outputs": [
        {
          "output_type": "execute_result",
          "data": {
            "text/plain": [
              "array(['released', 'released', 'released', ..., 'isolated', 'isolated',\n",
              "       'isolated'], dtype=object)"
            ]
          },
          "metadata": {
            "tags": []
          },
          "execution_count": 230
        }
      ]
    },
    {
      "cell_type": "code",
      "metadata": {
        "id": "DFYM2CQeZVb-",
        "colab_type": "code",
        "outputId": "572a7f18-54bc-4a4c-d0fb-ddacc9d30480",
        "colab": {
          "base_uri": "https://localhost:8080/",
          "height": 34
        }
      },
      "source": [
        "df.state.unique()"
      ],
      "execution_count": 0,
      "outputs": [
        {
          "output_type": "execute_result",
          "data": {
            "text/plain": [
              "array(['released', 'isolated', 'deceased', nan], dtype=object)"
            ]
          },
          "metadata": {
            "tags": []
          },
          "execution_count": 231
        }
      ]
    },
    {
      "cell_type": "code",
      "metadata": {
        "id": "j9R2gRpGZX8q",
        "colab_type": "code",
        "outputId": "9e60f820-a03f-46bf-ec61-52792c6ddd56",
        "colab": {
          "base_uri": "https://localhost:8080/",
          "height": 85
        }
      },
      "source": [
        "df.state.value_counts()"
      ],
      "execution_count": 0,
      "outputs": [
        {
          "output_type": "execute_result",
          "data": {
            "text/plain": [
              "isolated    5702\n",
              "released      40\n",
              "deceased      23\n",
              "Name: state, dtype: int64"
            ]
          },
          "metadata": {
            "tags": []
          },
          "execution_count": 232
        }
      ]
    },
    {
      "cell_type": "code",
      "metadata": {
        "id": "ryO7FkI_Zb9V",
        "colab_type": "code",
        "outputId": "9617744b-601c-4a36-db21-5a0ef8d89622",
        "colab": {
          "base_uri": "https://localhost:8080/",
          "height": 162
        }
      },
      "source": [
        "#Get the number of unique values for each column\n",
        "df.agg(['count', 'size', 'nunique'])"
      ],
      "execution_count": 0,
      "outputs": [
        {
          "output_type": "execute_result",
          "data": {
            "text/html": [
              "<div>\n",
              "<style scoped>\n",
              "    .dataframe tbody tr th:only-of-type {\n",
              "        vertical-align: middle;\n",
              "    }\n",
              "\n",
              "    .dataframe tbody tr th {\n",
              "        vertical-align: top;\n",
              "    }\n",
              "\n",
              "    .dataframe thead th {\n",
              "        text-align: right;\n",
              "    }\n",
              "</style>\n",
              "<table border=\"1\" class=\"dataframe\">\n",
              "  <thead>\n",
              "    <tr style=\"text-align: right;\">\n",
              "      <th></th>\n",
              "      <th>id</th>\n",
              "      <th>sex</th>\n",
              "      <th>birth_year</th>\n",
              "      <th>country</th>\n",
              "      <th>region</th>\n",
              "      <th>group</th>\n",
              "      <th>infection_reason</th>\n",
              "      <th>infection_order</th>\n",
              "      <th>infected_by</th>\n",
              "      <th>contact_number</th>\n",
              "      <th>confirmed_date</th>\n",
              "      <th>released_date</th>\n",
              "      <th>deceased_date</th>\n",
              "      <th>state</th>\n",
              "    </tr>\n",
              "  </thead>\n",
              "  <tbody>\n",
              "    <tr>\n",
              "      <th>count</th>\n",
              "      <td>5766</td>\n",
              "      <td>421</td>\n",
              "      <td>408</td>\n",
              "      <td>5765</td>\n",
              "      <td>409</td>\n",
              "      <td>83</td>\n",
              "      <td>146</td>\n",
              "      <td>35</td>\n",
              "      <td>70</td>\n",
              "      <td>50</td>\n",
              "      <td>5765</td>\n",
              "      <td>38</td>\n",
              "      <td>23</td>\n",
              "      <td>5765</td>\n",
              "    </tr>\n",
              "    <tr>\n",
              "      <th>size</th>\n",
              "      <td>5766</td>\n",
              "      <td>5766</td>\n",
              "      <td>5766</td>\n",
              "      <td>5766</td>\n",
              "      <td>5766</td>\n",
              "      <td>5766</td>\n",
              "      <td>5766</td>\n",
              "      <td>5766</td>\n",
              "      <td>5766</td>\n",
              "      <td>5766</td>\n",
              "      <td>5766</td>\n",
              "      <td>5766</td>\n",
              "      <td>5766</td>\n",
              "      <td>5766</td>\n",
              "    </tr>\n",
              "    <tr>\n",
              "      <th>nunique</th>\n",
              "      <td>5766</td>\n",
              "      <td>2</td>\n",
              "      <td>76</td>\n",
              "      <td>3</td>\n",
              "      <td>14</td>\n",
              "      <td>6</td>\n",
              "      <td>15</td>\n",
              "      <td>6</td>\n",
              "      <td>41</td>\n",
              "      <td>35</td>\n",
              "      <td>30</td>\n",
              "      <td>19</td>\n",
              "      <td>12</td>\n",
              "      <td>3</td>\n",
              "    </tr>\n",
              "  </tbody>\n",
              "</table>\n",
              "</div>"
            ],
            "text/plain": [
              "           id   sex  birth_year  ...  released_date  deceased_date  state\n",
              "count    5766   421         408  ...             38             23   5765\n",
              "size     5766  5766        5766  ...           5766           5766   5766\n",
              "nunique  5766     2          76  ...             19             12      3\n",
              "\n",
              "[3 rows x 14 columns]"
            ]
          },
          "metadata": {
            "tags": []
          },
          "execution_count": 233
        }
      ]
    },
    {
      "cell_type": "code",
      "metadata": {
        "id": "EFF07arvZhU3",
        "colab_type": "code",
        "outputId": "b6e5f55e-6b36-48fa-c9a3-9ca9c9ab3be9",
        "colab": {
          "base_uri": "https://localhost:8080/",
          "height": 379
        }
      },
      "source": [
        "#An agg within a groupby. Andstack at the end.\n",
        "df.groupby('state').agg(['count', 'size', 'nunique']).stack()"
      ],
      "execution_count": 0,
      "outputs": [
        {
          "output_type": "execute_result",
          "data": {
            "text/html": [
              "<div>\n",
              "<style scoped>\n",
              "    .dataframe tbody tr th:only-of-type {\n",
              "        vertical-align: middle;\n",
              "    }\n",
              "\n",
              "    .dataframe tbody tr th {\n",
              "        vertical-align: top;\n",
              "    }\n",
              "\n",
              "    .dataframe thead th {\n",
              "        text-align: right;\n",
              "    }\n",
              "</style>\n",
              "<table border=\"1\" class=\"dataframe\">\n",
              "  <thead>\n",
              "    <tr style=\"text-align: right;\">\n",
              "      <th></th>\n",
              "      <th></th>\n",
              "      <th>id</th>\n",
              "      <th>sex</th>\n",
              "      <th>birth_year</th>\n",
              "      <th>country</th>\n",
              "      <th>region</th>\n",
              "      <th>group</th>\n",
              "      <th>infection_reason</th>\n",
              "      <th>infection_order</th>\n",
              "      <th>infected_by</th>\n",
              "      <th>contact_number</th>\n",
              "      <th>confirmed_date</th>\n",
              "      <th>released_date</th>\n",
              "      <th>deceased_date</th>\n",
              "    </tr>\n",
              "    <tr>\n",
              "      <th>state</th>\n",
              "      <th></th>\n",
              "      <th></th>\n",
              "      <th></th>\n",
              "      <th></th>\n",
              "      <th></th>\n",
              "      <th></th>\n",
              "      <th></th>\n",
              "      <th></th>\n",
              "      <th></th>\n",
              "      <th></th>\n",
              "      <th></th>\n",
              "      <th></th>\n",
              "      <th></th>\n",
              "      <th></th>\n",
              "    </tr>\n",
              "  </thead>\n",
              "  <tbody>\n",
              "    <tr>\n",
              "      <th rowspan=\"3\" valign=\"top\">deceased</th>\n",
              "      <th>count</th>\n",
              "      <td>23</td>\n",
              "      <td>23</td>\n",
              "      <td>23</td>\n",
              "      <td>23</td>\n",
              "      <td>23</td>\n",
              "      <td>9</td>\n",
              "      <td>1</td>\n",
              "      <td>0</td>\n",
              "      <td>0</td>\n",
              "      <td>0</td>\n",
              "      <td>23</td>\n",
              "      <td>0</td>\n",
              "      <td>23</td>\n",
              "    </tr>\n",
              "    <tr>\n",
              "      <th>size</th>\n",
              "      <td>23</td>\n",
              "      <td>23</td>\n",
              "      <td>23</td>\n",
              "      <td>23</td>\n",
              "      <td>23</td>\n",
              "      <td>23</td>\n",
              "      <td>23</td>\n",
              "      <td>23</td>\n",
              "      <td>23</td>\n",
              "      <td>23</td>\n",
              "      <td>23</td>\n",
              "      <td>23</td>\n",
              "      <td>23</td>\n",
              "    </tr>\n",
              "    <tr>\n",
              "      <th>nunique</th>\n",
              "      <td>23</td>\n",
              "      <td>2</td>\n",
              "      <td>18</td>\n",
              "      <td>2</td>\n",
              "      <td>3</td>\n",
              "      <td>2</td>\n",
              "      <td>1</td>\n",
              "      <td>0</td>\n",
              "      <td>0</td>\n",
              "      <td>0</td>\n",
              "      <td>13</td>\n",
              "      <td>0</td>\n",
              "      <td>12</td>\n",
              "    </tr>\n",
              "    <tr>\n",
              "      <th rowspan=\"3\" valign=\"top\">isolated</th>\n",
              "      <th>count</th>\n",
              "      <td>5702</td>\n",
              "      <td>358</td>\n",
              "      <td>345</td>\n",
              "      <td>5702</td>\n",
              "      <td>347</td>\n",
              "      <td>71</td>\n",
              "      <td>114</td>\n",
              "      <td>9</td>\n",
              "      <td>53</td>\n",
              "      <td>24</td>\n",
              "      <td>5702</td>\n",
              "      <td>0</td>\n",
              "      <td>0</td>\n",
              "    </tr>\n",
              "    <tr>\n",
              "      <th>size</th>\n",
              "      <td>5702</td>\n",
              "      <td>5702</td>\n",
              "      <td>5702</td>\n",
              "      <td>5702</td>\n",
              "      <td>5702</td>\n",
              "      <td>5702</td>\n",
              "      <td>5702</td>\n",
              "      <td>5702</td>\n",
              "      <td>5702</td>\n",
              "      <td>5702</td>\n",
              "      <td>5702</td>\n",
              "      <td>5702</td>\n",
              "      <td>5702</td>\n",
              "    </tr>\n",
              "    <tr>\n",
              "      <th>nunique</th>\n",
              "      <td>5702</td>\n",
              "      <td>2</td>\n",
              "      <td>74</td>\n",
              "      <td>2</td>\n",
              "      <td>13</td>\n",
              "      <td>6</td>\n",
              "      <td>11</td>\n",
              "      <td>5</td>\n",
              "      <td>34</td>\n",
              "      <td>20</td>\n",
              "      <td>18</td>\n",
              "      <td>0</td>\n",
              "      <td>0</td>\n",
              "    </tr>\n",
              "    <tr>\n",
              "      <th rowspan=\"3\" valign=\"top\">released</th>\n",
              "      <th>count</th>\n",
              "      <td>40</td>\n",
              "      <td>40</td>\n",
              "      <td>40</td>\n",
              "      <td>40</td>\n",
              "      <td>39</td>\n",
              "      <td>3</td>\n",
              "      <td>31</td>\n",
              "      <td>26</td>\n",
              "      <td>17</td>\n",
              "      <td>26</td>\n",
              "      <td>40</td>\n",
              "      <td>38</td>\n",
              "      <td>0</td>\n",
              "    </tr>\n",
              "    <tr>\n",
              "      <th>size</th>\n",
              "      <td>40</td>\n",
              "      <td>40</td>\n",
              "      <td>40</td>\n",
              "      <td>40</td>\n",
              "      <td>40</td>\n",
              "      <td>40</td>\n",
              "      <td>40</td>\n",
              "      <td>40</td>\n",
              "      <td>40</td>\n",
              "      <td>40</td>\n",
              "      <td>40</td>\n",
              "      <td>40</td>\n",
              "      <td>40</td>\n",
              "    </tr>\n",
              "    <tr>\n",
              "      <th>nunique</th>\n",
              "      <td>40</td>\n",
              "      <td>2</td>\n",
              "      <td>28</td>\n",
              "      <td>2</td>\n",
              "      <td>7</td>\n",
              "      <td>1</td>\n",
              "      <td>7</td>\n",
              "      <td>3</td>\n",
              "      <td>11</td>\n",
              "      <td>22</td>\n",
              "      <td>18</td>\n",
              "      <td>19</td>\n",
              "      <td>0</td>\n",
              "    </tr>\n",
              "  </tbody>\n",
              "</table>\n",
              "</div>"
            ],
            "text/plain": [
              "                    id   sex  ...  released_date  deceased_date\n",
              "state                         ...                              \n",
              "deceased count      23    23  ...              0             23\n",
              "         size       23    23  ...             23             23\n",
              "         nunique    23     2  ...              0             12\n",
              "isolated count    5702   358  ...              0              0\n",
              "         size     5702  5702  ...           5702           5702\n",
              "         nunique  5702     2  ...              0              0\n",
              "released count      40    40  ...             38              0\n",
              "         size       40    40  ...             40             40\n",
              "         nunique    40     2  ...             19              0\n",
              "\n",
              "[9 rows x 13 columns]"
            ]
          },
          "metadata": {
            "tags": []
          },
          "execution_count": 234
        }
      ]
    },
    {
      "cell_type": "code",
      "metadata": {
        "id": "xE4JzAwQZm76",
        "colab_type": "code",
        "outputId": "46ab7a28-e4c5-4fd8-e021-3d85435e254e",
        "colab": {
          "base_uri": "https://localhost:8080/",
          "height": 224
        }
      },
      "source": [
        "df.groupby('state').agg(['count', 'size', 'nunique'])"
      ],
      "execution_count": 0,
      "outputs": [
        {
          "output_type": "execute_result",
          "data": {
            "text/html": [
              "<div>\n",
              "<style scoped>\n",
              "    .dataframe tbody tr th:only-of-type {\n",
              "        vertical-align: middle;\n",
              "    }\n",
              "\n",
              "    .dataframe tbody tr th {\n",
              "        vertical-align: top;\n",
              "    }\n",
              "\n",
              "    .dataframe thead tr th {\n",
              "        text-align: left;\n",
              "    }\n",
              "\n",
              "    .dataframe thead tr:last-of-type th {\n",
              "        text-align: right;\n",
              "    }\n",
              "</style>\n",
              "<table border=\"1\" class=\"dataframe\">\n",
              "  <thead>\n",
              "    <tr>\n",
              "      <th></th>\n",
              "      <th colspan=\"3\" halign=\"left\">id</th>\n",
              "      <th colspan=\"3\" halign=\"left\">sex</th>\n",
              "      <th colspan=\"3\" halign=\"left\">birth_year</th>\n",
              "      <th colspan=\"3\" halign=\"left\">country</th>\n",
              "      <th colspan=\"3\" halign=\"left\">region</th>\n",
              "      <th colspan=\"3\" halign=\"left\">group</th>\n",
              "      <th colspan=\"3\" halign=\"left\">infection_reason</th>\n",
              "      <th colspan=\"3\" halign=\"left\">infection_order</th>\n",
              "      <th colspan=\"3\" halign=\"left\">infected_by</th>\n",
              "      <th colspan=\"3\" halign=\"left\">contact_number</th>\n",
              "      <th colspan=\"3\" halign=\"left\">confirmed_date</th>\n",
              "      <th colspan=\"3\" halign=\"left\">released_date</th>\n",
              "      <th colspan=\"3\" halign=\"left\">deceased_date</th>\n",
              "    </tr>\n",
              "    <tr>\n",
              "      <th></th>\n",
              "      <th>count</th>\n",
              "      <th>size</th>\n",
              "      <th>nunique</th>\n",
              "      <th>count</th>\n",
              "      <th>size</th>\n",
              "      <th>nunique</th>\n",
              "      <th>count</th>\n",
              "      <th>size</th>\n",
              "      <th>nunique</th>\n",
              "      <th>count</th>\n",
              "      <th>size</th>\n",
              "      <th>nunique</th>\n",
              "      <th>count</th>\n",
              "      <th>size</th>\n",
              "      <th>nunique</th>\n",
              "      <th>count</th>\n",
              "      <th>size</th>\n",
              "      <th>nunique</th>\n",
              "      <th>count</th>\n",
              "      <th>size</th>\n",
              "      <th>nunique</th>\n",
              "      <th>count</th>\n",
              "      <th>size</th>\n",
              "      <th>nunique</th>\n",
              "      <th>count</th>\n",
              "      <th>size</th>\n",
              "      <th>nunique</th>\n",
              "      <th>count</th>\n",
              "      <th>size</th>\n",
              "      <th>nunique</th>\n",
              "      <th>count</th>\n",
              "      <th>size</th>\n",
              "      <th>nunique</th>\n",
              "      <th>count</th>\n",
              "      <th>size</th>\n",
              "      <th>nunique</th>\n",
              "      <th>count</th>\n",
              "      <th>size</th>\n",
              "      <th>nunique</th>\n",
              "    </tr>\n",
              "    <tr>\n",
              "      <th>state</th>\n",
              "      <th></th>\n",
              "      <th></th>\n",
              "      <th></th>\n",
              "      <th></th>\n",
              "      <th></th>\n",
              "      <th></th>\n",
              "      <th></th>\n",
              "      <th></th>\n",
              "      <th></th>\n",
              "      <th></th>\n",
              "      <th></th>\n",
              "      <th></th>\n",
              "      <th></th>\n",
              "      <th></th>\n",
              "      <th></th>\n",
              "      <th></th>\n",
              "      <th></th>\n",
              "      <th></th>\n",
              "      <th></th>\n",
              "      <th></th>\n",
              "      <th></th>\n",
              "      <th></th>\n",
              "      <th></th>\n",
              "      <th></th>\n",
              "      <th></th>\n",
              "      <th></th>\n",
              "      <th></th>\n",
              "      <th></th>\n",
              "      <th></th>\n",
              "      <th></th>\n",
              "      <th></th>\n",
              "      <th></th>\n",
              "      <th></th>\n",
              "      <th></th>\n",
              "      <th></th>\n",
              "      <th></th>\n",
              "      <th></th>\n",
              "      <th></th>\n",
              "      <th></th>\n",
              "    </tr>\n",
              "  </thead>\n",
              "  <tbody>\n",
              "    <tr>\n",
              "      <th>deceased</th>\n",
              "      <td>23</td>\n",
              "      <td>23</td>\n",
              "      <td>23</td>\n",
              "      <td>23</td>\n",
              "      <td>23</td>\n",
              "      <td>2</td>\n",
              "      <td>23</td>\n",
              "      <td>23</td>\n",
              "      <td>18</td>\n",
              "      <td>23</td>\n",
              "      <td>23</td>\n",
              "      <td>2</td>\n",
              "      <td>23</td>\n",
              "      <td>23</td>\n",
              "      <td>3</td>\n",
              "      <td>9</td>\n",
              "      <td>23</td>\n",
              "      <td>2</td>\n",
              "      <td>1</td>\n",
              "      <td>23</td>\n",
              "      <td>1</td>\n",
              "      <td>0</td>\n",
              "      <td>23</td>\n",
              "      <td>0</td>\n",
              "      <td>0</td>\n",
              "      <td>23</td>\n",
              "      <td>0</td>\n",
              "      <td>0</td>\n",
              "      <td>23</td>\n",
              "      <td>0</td>\n",
              "      <td>23</td>\n",
              "      <td>23</td>\n",
              "      <td>13</td>\n",
              "      <td>0</td>\n",
              "      <td>23</td>\n",
              "      <td>0</td>\n",
              "      <td>23</td>\n",
              "      <td>23</td>\n",
              "      <td>12</td>\n",
              "    </tr>\n",
              "    <tr>\n",
              "      <th>isolated</th>\n",
              "      <td>5702</td>\n",
              "      <td>5702</td>\n",
              "      <td>5702</td>\n",
              "      <td>358</td>\n",
              "      <td>5702</td>\n",
              "      <td>2</td>\n",
              "      <td>345</td>\n",
              "      <td>5702</td>\n",
              "      <td>74</td>\n",
              "      <td>5702</td>\n",
              "      <td>5702</td>\n",
              "      <td>2</td>\n",
              "      <td>347</td>\n",
              "      <td>5702</td>\n",
              "      <td>13</td>\n",
              "      <td>71</td>\n",
              "      <td>5702</td>\n",
              "      <td>6</td>\n",
              "      <td>114</td>\n",
              "      <td>5702</td>\n",
              "      <td>11</td>\n",
              "      <td>9</td>\n",
              "      <td>5702</td>\n",
              "      <td>5</td>\n",
              "      <td>53</td>\n",
              "      <td>5702</td>\n",
              "      <td>34</td>\n",
              "      <td>24</td>\n",
              "      <td>5702</td>\n",
              "      <td>20</td>\n",
              "      <td>5702</td>\n",
              "      <td>5702</td>\n",
              "      <td>18</td>\n",
              "      <td>0</td>\n",
              "      <td>5702</td>\n",
              "      <td>0</td>\n",
              "      <td>0</td>\n",
              "      <td>5702</td>\n",
              "      <td>0</td>\n",
              "    </tr>\n",
              "    <tr>\n",
              "      <th>released</th>\n",
              "      <td>40</td>\n",
              "      <td>40</td>\n",
              "      <td>40</td>\n",
              "      <td>40</td>\n",
              "      <td>40</td>\n",
              "      <td>2</td>\n",
              "      <td>40</td>\n",
              "      <td>40</td>\n",
              "      <td>28</td>\n",
              "      <td>40</td>\n",
              "      <td>40</td>\n",
              "      <td>2</td>\n",
              "      <td>39</td>\n",
              "      <td>40</td>\n",
              "      <td>7</td>\n",
              "      <td>3</td>\n",
              "      <td>40</td>\n",
              "      <td>1</td>\n",
              "      <td>31</td>\n",
              "      <td>40</td>\n",
              "      <td>7</td>\n",
              "      <td>26</td>\n",
              "      <td>40</td>\n",
              "      <td>3</td>\n",
              "      <td>17</td>\n",
              "      <td>40</td>\n",
              "      <td>11</td>\n",
              "      <td>26</td>\n",
              "      <td>40</td>\n",
              "      <td>22</td>\n",
              "      <td>40</td>\n",
              "      <td>40</td>\n",
              "      <td>18</td>\n",
              "      <td>38</td>\n",
              "      <td>40</td>\n",
              "      <td>19</td>\n",
              "      <td>0</td>\n",
              "      <td>40</td>\n",
              "      <td>0</td>\n",
              "    </tr>\n",
              "  </tbody>\n",
              "</table>\n",
              "</div>"
            ],
            "text/plain": [
              "            id                 sex  ... released_date deceased_date              \n",
              "         count  size nunique count  ...       nunique         count  size nunique\n",
              "state                               ...                                          \n",
              "deceased    23    23      23    23  ...             0            23    23      12\n",
              "isolated  5702  5702    5702   358  ...             0             0  5702       0\n",
              "released    40    40      40    40  ...            19             0    40       0\n",
              "\n",
              "[3 rows x 39 columns]"
            ]
          },
          "metadata": {
            "tags": []
          },
          "execution_count": 235
        }
      ]
    },
    {
      "cell_type": "code",
      "metadata": {
        "id": "ZF7D25elZpd5",
        "colab_type": "code",
        "outputId": "4d84ea0f-f2ca-4fe5-c5c5-6279481b9117",
        "colab": {
          "base_uri": "https://localhost:8080/",
          "height": 224
        }
      },
      "source": [
        "df_sample = df.sample(frac=0.05, random_state=1)\n",
        "df_sample.head()"
      ],
      "execution_count": 0,
      "outputs": [
        {
          "output_type": "execute_result",
          "data": {
            "text/html": [
              "<div>\n",
              "<style scoped>\n",
              "    .dataframe tbody tr th:only-of-type {\n",
              "        vertical-align: middle;\n",
              "    }\n",
              "\n",
              "    .dataframe tbody tr th {\n",
              "        vertical-align: top;\n",
              "    }\n",
              "\n",
              "    .dataframe thead th {\n",
              "        text-align: right;\n",
              "    }\n",
              "</style>\n",
              "<table border=\"1\" class=\"dataframe\">\n",
              "  <thead>\n",
              "    <tr style=\"text-align: right;\">\n",
              "      <th></th>\n",
              "      <th>id</th>\n",
              "      <th>sex</th>\n",
              "      <th>birth_year</th>\n",
              "      <th>country</th>\n",
              "      <th>region</th>\n",
              "      <th>group</th>\n",
              "      <th>infection_reason</th>\n",
              "      <th>infection_order</th>\n",
              "      <th>infected_by</th>\n",
              "      <th>contact_number</th>\n",
              "      <th>confirmed_date</th>\n",
              "      <th>released_date</th>\n",
              "      <th>deceased_date</th>\n",
              "      <th>state</th>\n",
              "    </tr>\n",
              "  </thead>\n",
              "  <tbody>\n",
              "    <tr>\n",
              "      <th>4268</th>\n",
              "      <td>4269</td>\n",
              "      <td>NaN</td>\n",
              "      <td>NaN</td>\n",
              "      <td>Korea</td>\n",
              "      <td>NaN</td>\n",
              "      <td>NaN</td>\n",
              "      <td>NaN</td>\n",
              "      <td>NaN</td>\n",
              "      <td>NaN</td>\n",
              "      <td>NaN</td>\n",
              "      <td>2020-03-02</td>\n",
              "      <td>NaN</td>\n",
              "      <td>NaN</td>\n",
              "      <td>isolated</td>\n",
              "    </tr>\n",
              "    <tr>\n",
              "      <th>4073</th>\n",
              "      <td>4074</td>\n",
              "      <td>NaN</td>\n",
              "      <td>NaN</td>\n",
              "      <td>Korea</td>\n",
              "      <td>NaN</td>\n",
              "      <td>NaN</td>\n",
              "      <td>NaN</td>\n",
              "      <td>NaN</td>\n",
              "      <td>NaN</td>\n",
              "      <td>NaN</td>\n",
              "      <td>2020-03-01</td>\n",
              "      <td>NaN</td>\n",
              "      <td>NaN</td>\n",
              "      <td>isolated</td>\n",
              "    </tr>\n",
              "    <tr>\n",
              "      <th>1379</th>\n",
              "      <td>1380</td>\n",
              "      <td>NaN</td>\n",
              "      <td>NaN</td>\n",
              "      <td>Korea</td>\n",
              "      <td>NaN</td>\n",
              "      <td>NaN</td>\n",
              "      <td>NaN</td>\n",
              "      <td>NaN</td>\n",
              "      <td>NaN</td>\n",
              "      <td>NaN</td>\n",
              "      <td>2020-02-27</td>\n",
              "      <td>NaN</td>\n",
              "      <td>NaN</td>\n",
              "      <td>isolated</td>\n",
              "    </tr>\n",
              "    <tr>\n",
              "      <th>354</th>\n",
              "      <td>355</td>\n",
              "      <td>NaN</td>\n",
              "      <td>NaN</td>\n",
              "      <td>Korea</td>\n",
              "      <td>NaN</td>\n",
              "      <td>NaN</td>\n",
              "      <td>NaN</td>\n",
              "      <td>NaN</td>\n",
              "      <td>NaN</td>\n",
              "      <td>NaN</td>\n",
              "      <td>2020-02-22</td>\n",
              "      <td>NaN</td>\n",
              "      <td>NaN</td>\n",
              "      <td>isolated</td>\n",
              "    </tr>\n",
              "    <tr>\n",
              "      <th>1023</th>\n",
              "      <td>1024</td>\n",
              "      <td>NaN</td>\n",
              "      <td>NaN</td>\n",
              "      <td>Korea</td>\n",
              "      <td>NaN</td>\n",
              "      <td>NaN</td>\n",
              "      <td>NaN</td>\n",
              "      <td>NaN</td>\n",
              "      <td>NaN</td>\n",
              "      <td>NaN</td>\n",
              "      <td>2020-02-26</td>\n",
              "      <td>NaN</td>\n",
              "      <td>NaN</td>\n",
              "      <td>isolated</td>\n",
              "    </tr>\n",
              "  </tbody>\n",
              "</table>\n",
              "</div>"
            ],
            "text/plain": [
              "        id  sex  birth_year  ... released_date deceased_date     state\n",
              "4268  4269  NaN         NaN  ...           NaN           NaN  isolated\n",
              "4073  4074  NaN         NaN  ...           NaN           NaN  isolated\n",
              "1379  1380  NaN         NaN  ...           NaN           NaN  isolated\n",
              "354    355  NaN         NaN  ...           NaN           NaN  isolated\n",
              "1023  1024  NaN         NaN  ...           NaN           NaN  isolated\n",
              "\n",
              "[5 rows x 14 columns]"
            ]
          },
          "metadata": {
            "tags": []
          },
          "execution_count": 236
        }
      ]
    },
    {
      "cell_type": "code",
      "metadata": {
        "id": "8KC9gA1TZvQ4",
        "colab_type": "code",
        "outputId": "71c5b324-9521-43ee-f210-acbc6c34af4b",
        "colab": {
          "base_uri": "https://localhost:8080/",
          "height": 34
        }
      },
      "source": [
        "df.shape"
      ],
      "execution_count": 0,
      "outputs": [
        {
          "output_type": "execute_result",
          "data": {
            "text/plain": [
              "(5766, 14)"
            ]
          },
          "metadata": {
            "tags": []
          },
          "execution_count": 237
        }
      ]
    },
    {
      "cell_type": "code",
      "metadata": {
        "id": "uCP2PduhZxFw",
        "colab_type": "code",
        "outputId": "a1ba7f31-4b5d-4749-ee28-174e65c69384",
        "colab": {
          "base_uri": "https://localhost:8080/",
          "height": 34
        }
      },
      "source": [
        "df_sample.shape"
      ],
      "execution_count": 0,
      "outputs": [
        {
          "output_type": "execute_result",
          "data": {
            "text/plain": [
              "(288, 14)"
            ]
          },
          "metadata": {
            "tags": []
          },
          "execution_count": 238
        }
      ]
    },
    {
      "cell_type": "code",
      "metadata": {
        "id": "ClLBAmLpZz1X",
        "colab_type": "code",
        "outputId": "eab3337a-a141-4596-a9a7-1d39dfefd45f",
        "colab": {
          "base_uri": "https://localhost:8080/",
          "height": 343
        }
      },
      "source": [
        "#Data Transform\n",
        "#Drop Rows with missing count\n",
        "df_dropped = df.dropna(subset=['infection_reason'])\n",
        "df_dropped.head()"
      ],
      "execution_count": 0,
      "outputs": [
        {
          "output_type": "execute_result",
          "data": {
            "text/html": [
              "<div>\n",
              "<style scoped>\n",
              "    .dataframe tbody tr th:only-of-type {\n",
              "        vertical-align: middle;\n",
              "    }\n",
              "\n",
              "    .dataframe tbody tr th {\n",
              "        vertical-align: top;\n",
              "    }\n",
              "\n",
              "    .dataframe thead th {\n",
              "        text-align: right;\n",
              "    }\n",
              "</style>\n",
              "<table border=\"1\" class=\"dataframe\">\n",
              "  <thead>\n",
              "    <tr style=\"text-align: right;\">\n",
              "      <th></th>\n",
              "      <th>id</th>\n",
              "      <th>sex</th>\n",
              "      <th>birth_year</th>\n",
              "      <th>country</th>\n",
              "      <th>region</th>\n",
              "      <th>group</th>\n",
              "      <th>infection_reason</th>\n",
              "      <th>infection_order</th>\n",
              "      <th>infected_by</th>\n",
              "      <th>contact_number</th>\n",
              "      <th>confirmed_date</th>\n",
              "      <th>released_date</th>\n",
              "      <th>deceased_date</th>\n",
              "      <th>state</th>\n",
              "    </tr>\n",
              "  </thead>\n",
              "  <tbody>\n",
              "    <tr>\n",
              "      <th>0</th>\n",
              "      <td>1</td>\n",
              "      <td>female</td>\n",
              "      <td>1984.0</td>\n",
              "      <td>China</td>\n",
              "      <td>filtered at airport</td>\n",
              "      <td>NaN</td>\n",
              "      <td>visit to Wuhan</td>\n",
              "      <td>1.0</td>\n",
              "      <td>NaN</td>\n",
              "      <td>45.0</td>\n",
              "      <td>2020-01-20</td>\n",
              "      <td>2020-02-06</td>\n",
              "      <td>NaN</td>\n",
              "      <td>released</td>\n",
              "    </tr>\n",
              "    <tr>\n",
              "      <th>1</th>\n",
              "      <td>2</td>\n",
              "      <td>male</td>\n",
              "      <td>1964.0</td>\n",
              "      <td>Korea</td>\n",
              "      <td>filtered at airport</td>\n",
              "      <td>NaN</td>\n",
              "      <td>visit to Wuhan</td>\n",
              "      <td>1.0</td>\n",
              "      <td>NaN</td>\n",
              "      <td>75.0</td>\n",
              "      <td>2020-01-24</td>\n",
              "      <td>2020-02-05</td>\n",
              "      <td>NaN</td>\n",
              "      <td>released</td>\n",
              "    </tr>\n",
              "    <tr>\n",
              "      <th>2</th>\n",
              "      <td>3</td>\n",
              "      <td>male</td>\n",
              "      <td>1966.0</td>\n",
              "      <td>Korea</td>\n",
              "      <td>capital area</td>\n",
              "      <td>NaN</td>\n",
              "      <td>visit to Wuhan</td>\n",
              "      <td>1.0</td>\n",
              "      <td>NaN</td>\n",
              "      <td>16.0</td>\n",
              "      <td>2020-01-26</td>\n",
              "      <td>2020-02-12</td>\n",
              "      <td>NaN</td>\n",
              "      <td>released</td>\n",
              "    </tr>\n",
              "    <tr>\n",
              "      <th>3</th>\n",
              "      <td>4</td>\n",
              "      <td>male</td>\n",
              "      <td>1964.0</td>\n",
              "      <td>Korea</td>\n",
              "      <td>capital area</td>\n",
              "      <td>NaN</td>\n",
              "      <td>visit to Wuhan</td>\n",
              "      <td>1.0</td>\n",
              "      <td>NaN</td>\n",
              "      <td>95.0</td>\n",
              "      <td>2020-01-27</td>\n",
              "      <td>2020-02-09</td>\n",
              "      <td>NaN</td>\n",
              "      <td>released</td>\n",
              "    </tr>\n",
              "    <tr>\n",
              "      <th>4</th>\n",
              "      <td>5</td>\n",
              "      <td>male</td>\n",
              "      <td>1987.0</td>\n",
              "      <td>Korea</td>\n",
              "      <td>capital area</td>\n",
              "      <td>NaN</td>\n",
              "      <td>visit to Wuhan</td>\n",
              "      <td>1.0</td>\n",
              "      <td>NaN</td>\n",
              "      <td>31.0</td>\n",
              "      <td>2020-01-30</td>\n",
              "      <td>2020-03-02</td>\n",
              "      <td>NaN</td>\n",
              "      <td>released</td>\n",
              "    </tr>\n",
              "  </tbody>\n",
              "</table>\n",
              "</div>"
            ],
            "text/plain": [
              "   id     sex  birth_year  ... released_date deceased_date     state\n",
              "0   1  female      1984.0  ...    2020-02-06           NaN  released\n",
              "1   2    male      1964.0  ...    2020-02-05           NaN  released\n",
              "2   3    male      1966.0  ...    2020-02-12           NaN  released\n",
              "3   4    male      1964.0  ...    2020-02-09           NaN  released\n",
              "4   5    male      1987.0  ...    2020-03-02           NaN  released\n",
              "\n",
              "[5 rows x 14 columns]"
            ]
          },
          "metadata": {
            "tags": []
          },
          "execution_count": 239
        }
      ]
    },
    {
      "cell_type": "code",
      "metadata": {
        "id": "1nTGrDNiZ6-5",
        "colab_type": "code",
        "outputId": "b13c8e51-0606-461c-becd-ccc85ee686f1",
        "colab": {
          "base_uri": "https://localhost:8080/",
          "height": 34
        }
      },
      "source": [
        "df_dropped.shape"
      ],
      "execution_count": 0,
      "outputs": [
        {
          "output_type": "execute_result",
          "data": {
            "text/plain": [
              "(146, 14)"
            ]
          },
          "metadata": {
            "tags": []
          },
          "execution_count": 240
        }
      ]
    },
    {
      "cell_type": "code",
      "metadata": {
        "id": "VCqRO0DGZ8MI",
        "colab_type": "code",
        "outputId": "2f9aa648-c3f9-4de1-9c26-884cf816bad9",
        "colab": {
          "base_uri": "https://localhost:8080/",
          "height": 343
        }
      },
      "source": [
        "#Copy of df\n",
        "df_copy = df.copy()\n",
        "df_copy.head()"
      ],
      "execution_count": 0,
      "outputs": [
        {
          "output_type": "execute_result",
          "data": {
            "text/html": [
              "<div>\n",
              "<style scoped>\n",
              "    .dataframe tbody tr th:only-of-type {\n",
              "        vertical-align: middle;\n",
              "    }\n",
              "\n",
              "    .dataframe tbody tr th {\n",
              "        vertical-align: top;\n",
              "    }\n",
              "\n",
              "    .dataframe thead th {\n",
              "        text-align: right;\n",
              "    }\n",
              "</style>\n",
              "<table border=\"1\" class=\"dataframe\">\n",
              "  <thead>\n",
              "    <tr style=\"text-align: right;\">\n",
              "      <th></th>\n",
              "      <th>id</th>\n",
              "      <th>sex</th>\n",
              "      <th>birth_year</th>\n",
              "      <th>country</th>\n",
              "      <th>region</th>\n",
              "      <th>group</th>\n",
              "      <th>infection_reason</th>\n",
              "      <th>infection_order</th>\n",
              "      <th>infected_by</th>\n",
              "      <th>contact_number</th>\n",
              "      <th>confirmed_date</th>\n",
              "      <th>released_date</th>\n",
              "      <th>deceased_date</th>\n",
              "      <th>state</th>\n",
              "    </tr>\n",
              "  </thead>\n",
              "  <tbody>\n",
              "    <tr>\n",
              "      <th>0</th>\n",
              "      <td>1</td>\n",
              "      <td>female</td>\n",
              "      <td>1984.0</td>\n",
              "      <td>China</td>\n",
              "      <td>filtered at airport</td>\n",
              "      <td>NaN</td>\n",
              "      <td>visit to Wuhan</td>\n",
              "      <td>1.0</td>\n",
              "      <td>NaN</td>\n",
              "      <td>45.0</td>\n",
              "      <td>2020-01-20</td>\n",
              "      <td>2020-02-06</td>\n",
              "      <td>NaN</td>\n",
              "      <td>released</td>\n",
              "    </tr>\n",
              "    <tr>\n",
              "      <th>1</th>\n",
              "      <td>2</td>\n",
              "      <td>male</td>\n",
              "      <td>1964.0</td>\n",
              "      <td>Korea</td>\n",
              "      <td>filtered at airport</td>\n",
              "      <td>NaN</td>\n",
              "      <td>visit to Wuhan</td>\n",
              "      <td>1.0</td>\n",
              "      <td>NaN</td>\n",
              "      <td>75.0</td>\n",
              "      <td>2020-01-24</td>\n",
              "      <td>2020-02-05</td>\n",
              "      <td>NaN</td>\n",
              "      <td>released</td>\n",
              "    </tr>\n",
              "    <tr>\n",
              "      <th>2</th>\n",
              "      <td>3</td>\n",
              "      <td>male</td>\n",
              "      <td>1966.0</td>\n",
              "      <td>Korea</td>\n",
              "      <td>capital area</td>\n",
              "      <td>NaN</td>\n",
              "      <td>visit to Wuhan</td>\n",
              "      <td>1.0</td>\n",
              "      <td>NaN</td>\n",
              "      <td>16.0</td>\n",
              "      <td>2020-01-26</td>\n",
              "      <td>2020-02-12</td>\n",
              "      <td>NaN</td>\n",
              "      <td>released</td>\n",
              "    </tr>\n",
              "    <tr>\n",
              "      <th>3</th>\n",
              "      <td>4</td>\n",
              "      <td>male</td>\n",
              "      <td>1964.0</td>\n",
              "      <td>Korea</td>\n",
              "      <td>capital area</td>\n",
              "      <td>NaN</td>\n",
              "      <td>visit to Wuhan</td>\n",
              "      <td>1.0</td>\n",
              "      <td>NaN</td>\n",
              "      <td>95.0</td>\n",
              "      <td>2020-01-27</td>\n",
              "      <td>2020-02-09</td>\n",
              "      <td>NaN</td>\n",
              "      <td>released</td>\n",
              "    </tr>\n",
              "    <tr>\n",
              "      <th>4</th>\n",
              "      <td>5</td>\n",
              "      <td>male</td>\n",
              "      <td>1987.0</td>\n",
              "      <td>Korea</td>\n",
              "      <td>capital area</td>\n",
              "      <td>NaN</td>\n",
              "      <td>visit to Wuhan</td>\n",
              "      <td>1.0</td>\n",
              "      <td>NaN</td>\n",
              "      <td>31.0</td>\n",
              "      <td>2020-01-30</td>\n",
              "      <td>2020-03-02</td>\n",
              "      <td>NaN</td>\n",
              "      <td>released</td>\n",
              "    </tr>\n",
              "  </tbody>\n",
              "</table>\n",
              "</div>"
            ],
            "text/plain": [
              "   id     sex  birth_year  ... released_date deceased_date     state\n",
              "0   1  female      1984.0  ...    2020-02-06           NaN  released\n",
              "1   2    male      1964.0  ...    2020-02-05           NaN  released\n",
              "2   3    male      1966.0  ...    2020-02-12           NaN  released\n",
              "3   4    male      1964.0  ...    2020-02-09           NaN  released\n",
              "4   5    male      1987.0  ...    2020-03-02           NaN  released\n",
              "\n",
              "[5 rows x 14 columns]"
            ]
          },
          "metadata": {
            "tags": []
          },
          "execution_count": 241
        }
      ]
    },
    {
      "cell_type": "code",
      "metadata": {
        "id": "iB8vLfXdaDFn",
        "colab_type": "code",
        "outputId": "d5514caa-417c-4243-9bf2-db35fa2fb720",
        "colab": {
          "base_uri": "https://localhost:8080/",
          "height": 34
        }
      },
      "source": [
        "df_copy.shape"
      ],
      "execution_count": 0,
      "outputs": [
        {
          "output_type": "execute_result",
          "data": {
            "text/plain": [
              "(5766, 14)"
            ]
          },
          "metadata": {
            "tags": []
          },
          "execution_count": 242
        }
      ]
    },
    {
      "cell_type": "code",
      "metadata": {
        "id": "jQiG1hpIaF_W",
        "colab_type": "code",
        "outputId": "4cc133fd-88d2-4da6-d3ae-9b8290877805",
        "colab": {
          "base_uri": "https://localhost:8080/",
          "height": 34
        }
      },
      "source": [
        "#Fill Missing count values with mean count\n",
        "#ffill() and bfill() functions copy forward the data from the previous row (forward fill) or copy the value from the next row (backward fill)\n",
        "df_dropped['contact_number'].dtype"
      ],
      "execution_count": 0,
      "outputs": [
        {
          "output_type": "execute_result",
          "data": {
            "text/plain": [
              "dtype('float64')"
            ]
          },
          "metadata": {
            "tags": []
          },
          "execution_count": 243
        }
      ]
    },
    {
      "cell_type": "code",
      "metadata": {
        "id": "dzNhTr2OaK3d",
        "colab_type": "code",
        "outputId": "60ebcaf5-5620-4930-9201-d460437ee126",
        "colab": {
          "base_uri": "https://localhost:8080/",
          "height": 34
        }
      },
      "source": [
        "df_dropped['contact_number'].mean()"
      ],
      "execution_count": 0,
      "outputs": [
        {
          "output_type": "execute_result",
          "data": {
            "text/plain": [
              "52.44186046511628"
            ]
          },
          "metadata": {
            "tags": []
          },
          "execution_count": 244
        }
      ]
    },
    {
      "cell_type": "code",
      "metadata": {
        "id": "mWlOgmQ5aNiG",
        "colab_type": "code",
        "colab": {}
      },
      "source": [
        "df_copy['contact_number'].fillna(value=np.round(df['contact_number'].mean(),decimals=0), inplace=True)"
      ],
      "execution_count": 0,
      "outputs": []
    },
    {
      "cell_type": "code",
      "metadata": {
        "id": "fQODxKBuaRQX",
        "colab_type": "code",
        "outputId": "0246eaaf-c3ad-4430-e789-407cb78a0c5c",
        "colab": {
          "base_uri": "https://localhost:8080/",
          "height": 162
        }
      },
      "source": [
        "df_copy.agg(['count', 'size', 'nunique'])\n"
      ],
      "execution_count": 0,
      "outputs": [
        {
          "output_type": "execute_result",
          "data": {
            "text/html": [
              "<div>\n",
              "<style scoped>\n",
              "    .dataframe tbody tr th:only-of-type {\n",
              "        vertical-align: middle;\n",
              "    }\n",
              "\n",
              "    .dataframe tbody tr th {\n",
              "        vertical-align: top;\n",
              "    }\n",
              "\n",
              "    .dataframe thead th {\n",
              "        text-align: right;\n",
              "    }\n",
              "</style>\n",
              "<table border=\"1\" class=\"dataframe\">\n",
              "  <thead>\n",
              "    <tr style=\"text-align: right;\">\n",
              "      <th></th>\n",
              "      <th>id</th>\n",
              "      <th>sex</th>\n",
              "      <th>birth_year</th>\n",
              "      <th>country</th>\n",
              "      <th>region</th>\n",
              "      <th>group</th>\n",
              "      <th>infection_reason</th>\n",
              "      <th>infection_order</th>\n",
              "      <th>infected_by</th>\n",
              "      <th>contact_number</th>\n",
              "      <th>confirmed_date</th>\n",
              "      <th>released_date</th>\n",
              "      <th>deceased_date</th>\n",
              "      <th>state</th>\n",
              "    </tr>\n",
              "  </thead>\n",
              "  <tbody>\n",
              "    <tr>\n",
              "      <th>count</th>\n",
              "      <td>5766</td>\n",
              "      <td>421</td>\n",
              "      <td>408</td>\n",
              "      <td>5765</td>\n",
              "      <td>409</td>\n",
              "      <td>83</td>\n",
              "      <td>146</td>\n",
              "      <td>35</td>\n",
              "      <td>70</td>\n",
              "      <td>5766</td>\n",
              "      <td>5765</td>\n",
              "      <td>38</td>\n",
              "      <td>23</td>\n",
              "      <td>5765</td>\n",
              "    </tr>\n",
              "    <tr>\n",
              "      <th>size</th>\n",
              "      <td>5766</td>\n",
              "      <td>5766</td>\n",
              "      <td>5766</td>\n",
              "      <td>5766</td>\n",
              "      <td>5766</td>\n",
              "      <td>5766</td>\n",
              "      <td>5766</td>\n",
              "      <td>5766</td>\n",
              "      <td>5766</td>\n",
              "      <td>5766</td>\n",
              "      <td>5766</td>\n",
              "      <td>5766</td>\n",
              "      <td>5766</td>\n",
              "      <td>5766</td>\n",
              "    </tr>\n",
              "    <tr>\n",
              "      <th>nunique</th>\n",
              "      <td>5766</td>\n",
              "      <td>2</td>\n",
              "      <td>76</td>\n",
              "      <td>3</td>\n",
              "      <td>14</td>\n",
              "      <td>6</td>\n",
              "      <td>15</td>\n",
              "      <td>6</td>\n",
              "      <td>41</td>\n",
              "      <td>36</td>\n",
              "      <td>30</td>\n",
              "      <td>19</td>\n",
              "      <td>12</td>\n",
              "      <td>3</td>\n",
              "    </tr>\n",
              "  </tbody>\n",
              "</table>\n",
              "</div>"
            ],
            "text/plain": [
              "           id   sex  birth_year  ...  released_date  deceased_date  state\n",
              "count    5766   421         408  ...             38             23   5765\n",
              "size     5766  5766        5766  ...           5766           5766   5766\n",
              "nunique  5766     2          76  ...             19             12      3\n",
              "\n",
              "[3 rows x 14 columns]"
            ]
          },
          "metadata": {
            "tags": []
          },
          "execution_count": 246
        }
      ]
    },
    {
      "cell_type": "code",
      "metadata": {
        "id": "CKLd32qvaVVf",
        "colab_type": "code",
        "outputId": "04f461ae-0ff2-4e1a-a65c-754fa5540e03",
        "colab": {
          "base_uri": "https://localhost:8080/",
          "height": 272
        }
      },
      "source": [
        "#Handling Categorical Data\n",
        "list(df['region'].unique())"
      ],
      "execution_count": 0,
      "outputs": [
        {
          "output_type": "execute_result",
          "data": {
            "text/plain": [
              "['filtered at airport',\n",
              " 'capital area',\n",
              " 'Jeollabuk-do',\n",
              " 'Gwangju',\n",
              " 'Daegu',\n",
              " 'Gyeongsangbuk-do',\n",
              " nan,\n",
              " 'Jeju-do',\n",
              " 'Busan',\n",
              " 'Daejeon',\n",
              " 'Chungcheongbuk-do',\n",
              " 'Chungcheongnam-do',\n",
              " 'Ulsan',\n",
              " 'Gangwon-do',\n",
              " 'Jeollanam-do']"
            ]
          },
          "metadata": {
            "tags": []
          },
          "execution_count": 247
        }
      ]
    },
    {
      "cell_type": "code",
      "metadata": {
        "id": "Lh75q8Elab2p",
        "colab_type": "code",
        "colab": {}
      },
      "source": [
        "\"\"\"\n",
        "'filtered at airport',\t1\n",
        " 'capital area',\t2\n",
        " 'Jeollabuk-do',\t3\n",
        " 'Gwangju',\t4\n",
        " 'Daegu',\t5\n",
        " 'Gyeongsangbuk-do',\t6\n",
        " nan,\t7\n",
        " 'Jeju-do',\t8\n",
        " 'Busan',\t9\n",
        " 'Daejeon',\t10\n",
        " 'Chungcheongbuk-do',\t11\n",
        " 'Chungcheongnam-do',\t12\n",
        " 'Ulsan',\t13\n",
        " 'Gangwon-do',\t14\n",
        " 'Jeollanam-do'\t15\n",
        "\"\"\"\n",
        "df['region'].replace({1:\"filtered at airport\",\n",
        "2:\"capital area\",\n",
        "3:\"Jeollabuk-do\",\n",
        "4:\"Gwangju\",\n",
        "5:\"Daegu\",\n",
        "6:\"Gyeongsangbuk-do\",\n",
        "7:\"nan\",\n",
        "8:\"Jeju-do\",\n",
        "9:\"Busan\",\n",
        "10:\"Daejeon\",\n",
        "11:\"Chungcheongbuk-do\",\n",
        "12:\"Chungcheongnam-do\",\n",
        "13:\"Ulsan\",\n",
        "14:\"Gangwon-do\",\n",
        "15:\"Jeollanam-do\"}, inplace=True)"
      ],
      "execution_count": 0,
      "outputs": []
    },
    {
      "cell_type": "code",
      "metadata": {
        "id": "l4-n3GzNaehP",
        "colab_type": "code",
        "outputId": "478b8b64-a0c3-4f88-e967-eb6d25ce64ed",
        "colab": {
          "base_uri": "https://localhost:8080/",
          "height": 272
        }
      },
      "source": [
        "list(df['region'].unique())"
      ],
      "execution_count": 0,
      "outputs": [
        {
          "output_type": "execute_result",
          "data": {
            "text/plain": [
              "['filtered at airport',\n",
              " 'capital area',\n",
              " 'Jeollabuk-do',\n",
              " 'Gwangju',\n",
              " 'Daegu',\n",
              " 'Gyeongsangbuk-do',\n",
              " nan,\n",
              " 'Jeju-do',\n",
              " 'Busan',\n",
              " 'Daejeon',\n",
              " 'Chungcheongbuk-do',\n",
              " 'Chungcheongnam-do',\n",
              " 'Ulsan',\n",
              " 'Gangwon-do',\n",
              " 'Jeollanam-do']"
            ]
          },
          "metadata": {
            "tags": []
          },
          "execution_count": 249
        }
      ]
    },
    {
      "cell_type": "code",
      "metadata": {
        "id": "5WXPU4e6ah3i",
        "colab_type": "code",
        "outputId": "94ece4ba-4a86-4486-eec6-632952adaf2f",
        "colab": {
          "base_uri": "https://localhost:8080/",
          "height": 272
        }
      },
      "source": [
        "#Create a dictionary\n",
        "\n",
        "keys = list(df['region'].unique())\n",
        "vals = range(1,16)\n",
        "act = dict(zip(keys, vals))\n",
        "act"
      ],
      "execution_count": 0,
      "outputs": [
        {
          "output_type": "execute_result",
          "data": {
            "text/plain": [
              "{'Busan': 9,\n",
              " 'Chungcheongbuk-do': 11,\n",
              " 'Chungcheongnam-do': 12,\n",
              " 'Daegu': 5,\n",
              " 'Daejeon': 10,\n",
              " 'Gangwon-do': 14,\n",
              " 'Gwangju': 4,\n",
              " 'Gyeongsangbuk-do': 6,\n",
              " 'Jeju-do': 8,\n",
              " 'Jeollabuk-do': 3,\n",
              " 'Jeollanam-do': 15,\n",
              " 'Ulsan': 13,\n",
              " 'capital area': 2,\n",
              " 'filtered at airport': 1,\n",
              " nan: 7}"
            ]
          },
          "metadata": {
            "tags": []
          },
          "execution_count": 250
        }
      ]
    },
    {
      "cell_type": "code",
      "metadata": {
        "id": "oxUzFzXra0Oz",
        "colab_type": "code",
        "outputId": "f7ec4d22-fff2-479d-db56-5dd93f9d8f78",
        "colab": {
          "base_uri": "https://localhost:8080/",
          "height": 343
        }
      },
      "source": [
        "df_copy['region_cat'] = df['region'].map(act)\n",
        "df_copy.head()"
      ],
      "execution_count": 0,
      "outputs": [
        {
          "output_type": "execute_result",
          "data": {
            "text/html": [
              "<div>\n",
              "<style scoped>\n",
              "    .dataframe tbody tr th:only-of-type {\n",
              "        vertical-align: middle;\n",
              "    }\n",
              "\n",
              "    .dataframe tbody tr th {\n",
              "        vertical-align: top;\n",
              "    }\n",
              "\n",
              "    .dataframe thead th {\n",
              "        text-align: right;\n",
              "    }\n",
              "</style>\n",
              "<table border=\"1\" class=\"dataframe\">\n",
              "  <thead>\n",
              "    <tr style=\"text-align: right;\">\n",
              "      <th></th>\n",
              "      <th>id</th>\n",
              "      <th>sex</th>\n",
              "      <th>birth_year</th>\n",
              "      <th>country</th>\n",
              "      <th>region</th>\n",
              "      <th>group</th>\n",
              "      <th>infection_reason</th>\n",
              "      <th>infection_order</th>\n",
              "      <th>infected_by</th>\n",
              "      <th>contact_number</th>\n",
              "      <th>confirmed_date</th>\n",
              "      <th>released_date</th>\n",
              "      <th>deceased_date</th>\n",
              "      <th>state</th>\n",
              "      <th>region_cat</th>\n",
              "    </tr>\n",
              "  </thead>\n",
              "  <tbody>\n",
              "    <tr>\n",
              "      <th>0</th>\n",
              "      <td>1</td>\n",
              "      <td>female</td>\n",
              "      <td>1984.0</td>\n",
              "      <td>China</td>\n",
              "      <td>filtered at airport</td>\n",
              "      <td>NaN</td>\n",
              "      <td>visit to Wuhan</td>\n",
              "      <td>1.0</td>\n",
              "      <td>NaN</td>\n",
              "      <td>45.0</td>\n",
              "      <td>2020-01-20</td>\n",
              "      <td>2020-02-06</td>\n",
              "      <td>NaN</td>\n",
              "      <td>released</td>\n",
              "      <td>1</td>\n",
              "    </tr>\n",
              "    <tr>\n",
              "      <th>1</th>\n",
              "      <td>2</td>\n",
              "      <td>male</td>\n",
              "      <td>1964.0</td>\n",
              "      <td>Korea</td>\n",
              "      <td>filtered at airport</td>\n",
              "      <td>NaN</td>\n",
              "      <td>visit to Wuhan</td>\n",
              "      <td>1.0</td>\n",
              "      <td>NaN</td>\n",
              "      <td>75.0</td>\n",
              "      <td>2020-01-24</td>\n",
              "      <td>2020-02-05</td>\n",
              "      <td>NaN</td>\n",
              "      <td>released</td>\n",
              "      <td>1</td>\n",
              "    </tr>\n",
              "    <tr>\n",
              "      <th>2</th>\n",
              "      <td>3</td>\n",
              "      <td>male</td>\n",
              "      <td>1966.0</td>\n",
              "      <td>Korea</td>\n",
              "      <td>capital area</td>\n",
              "      <td>NaN</td>\n",
              "      <td>visit to Wuhan</td>\n",
              "      <td>1.0</td>\n",
              "      <td>NaN</td>\n",
              "      <td>16.0</td>\n",
              "      <td>2020-01-26</td>\n",
              "      <td>2020-02-12</td>\n",
              "      <td>NaN</td>\n",
              "      <td>released</td>\n",
              "      <td>2</td>\n",
              "    </tr>\n",
              "    <tr>\n",
              "      <th>3</th>\n",
              "      <td>4</td>\n",
              "      <td>male</td>\n",
              "      <td>1964.0</td>\n",
              "      <td>Korea</td>\n",
              "      <td>capital area</td>\n",
              "      <td>NaN</td>\n",
              "      <td>visit to Wuhan</td>\n",
              "      <td>1.0</td>\n",
              "      <td>NaN</td>\n",
              "      <td>95.0</td>\n",
              "      <td>2020-01-27</td>\n",
              "      <td>2020-02-09</td>\n",
              "      <td>NaN</td>\n",
              "      <td>released</td>\n",
              "      <td>2</td>\n",
              "    </tr>\n",
              "    <tr>\n",
              "      <th>4</th>\n",
              "      <td>5</td>\n",
              "      <td>male</td>\n",
              "      <td>1987.0</td>\n",
              "      <td>Korea</td>\n",
              "      <td>capital area</td>\n",
              "      <td>NaN</td>\n",
              "      <td>visit to Wuhan</td>\n",
              "      <td>1.0</td>\n",
              "      <td>NaN</td>\n",
              "      <td>31.0</td>\n",
              "      <td>2020-01-30</td>\n",
              "      <td>2020-03-02</td>\n",
              "      <td>NaN</td>\n",
              "      <td>released</td>\n",
              "      <td>2</td>\n",
              "    </tr>\n",
              "  </tbody>\n",
              "</table>\n",
              "</div>"
            ],
            "text/plain": [
              "   id     sex  birth_year  ... deceased_date     state region_cat\n",
              "0   1  female      1984.0  ...           NaN  released          1\n",
              "1   2    male      1964.0  ...           NaN  released          1\n",
              "2   3    male      1966.0  ...           NaN  released          2\n",
              "3   4    male      1964.0  ...           NaN  released          2\n",
              "4   5    male      1987.0  ...           NaN  released          2\n",
              "\n",
              "[5 rows x 15 columns]"
            ]
          },
          "metadata": {
            "tags": []
          },
          "execution_count": 251
        }
      ]
    },
    {
      "cell_type": "code",
      "metadata": {
        "id": "-y4e1Y26bBKK",
        "colab_type": "code",
        "outputId": "87549b5c-3382-4c81-e63d-842ffd10f7d8",
        "colab": {
          "base_uri": "https://localhost:8080/",
          "height": 34
        }
      },
      "source": [
        "list(df_copy['region_cat'].unique())"
      ],
      "execution_count": 0,
      "outputs": [
        {
          "output_type": "execute_result",
          "data": {
            "text/plain": [
              "[1, 2, 3, 4, 5, 6, 7, 8, 9, 10, 11, 12, 13, 14, 15]"
            ]
          },
          "metadata": {
            "tags": []
          },
          "execution_count": 252
        }
      ]
    },
    {
      "cell_type": "code",
      "metadata": {
        "id": "yQwn7vEAbFLm",
        "colab_type": "code",
        "outputId": "75c2de69-5a90-408d-bca6-5f5dcc089295",
        "colab": {
          "base_uri": "https://localhost:8080/",
          "height": 34
        }
      },
      "source": [
        "#Data Summarization\n",
        "#Preparing a compact representation of raw data at hand\n",
        "\n",
        "#Aggregation of data using different statistical, mathematical, and other methods. Summarization is helpful for visualization, compressing raw data, and better understanding of its attributes.\n",
        "df_copy['contact_number'].mean()"
      ],
      "execution_count": 0,
      "outputs": [
        {
          "output_type": "execute_result",
          "data": {
            "text/plain": [
              "69.00346860908776"
            ]
          },
          "metadata": {
            "tags": []
          },
          "execution_count": 253
        }
      ]
    },
    {
      "cell_type": "code",
      "metadata": {
        "id": "bNXaQUx-bODB",
        "colab_type": "code",
        "outputId": "4328f953-0b41-4fb8-d5a1-2214412835d0",
        "colab": {
          "base_uri": "https://localhost:8080/",
          "height": 102
        }
      },
      "source": [
        "#Lo hacemos para filtered at airport\n",
        "df_copy['contact_number'][df_copy['region_cat'] == 1]"
      ],
      "execution_count": 0,
      "outputs": [
        {
          "output_type": "execute_result",
          "data": {
            "text/plain": [
              "0     45.0\n",
              "1     75.0\n",
              "12     0.0\n",
              "23     0.0\n",
              "Name: contact_number, dtype: float64"
            ]
          },
          "metadata": {
            "tags": []
          },
          "execution_count": 254
        }
      ]
    },
    {
      "cell_type": "code",
      "metadata": {
        "id": "BjLZrNVjbHvX",
        "colab_type": "code",
        "outputId": "04a0c49e-3400-4e2a-869c-2250cbf3e21f",
        "colab": {
          "base_uri": "https://localhost:8080/",
          "height": 34
        }
      },
      "source": [
        "#Lo hacemos para filtered at airport\n",
        "df_copy['contact_number'][df_copy['region_cat'] == 1].mean()"
      ],
      "execution_count": 0,
      "outputs": [
        {
          "output_type": "execute_result",
          "data": {
            "text/plain": [
              "30.0"
            ]
          },
          "metadata": {
            "tags": []
          },
          "execution_count": 255
        }
      ]
    },
    {
      "cell_type": "code",
      "metadata": {
        "id": "GD4Fv3IObWxY",
        "colab_type": "code",
        "outputId": "fc466be4-6ac9-404a-98f8-63e0a343d1ce",
        "colab": {
          "base_uri": "https://localhost:8080/",
          "height": 720
        }
      },
      "source": [
        "df_copy.groupby([\"region_cat\", \"infection_order\", \"contact_number\", \"infected_by\"]).count()"
      ],
      "execution_count": 0,
      "outputs": [
        {
          "output_type": "execute_result",
          "data": {
            "text/html": [
              "<div>\n",
              "<style scoped>\n",
              "    .dataframe tbody tr th:only-of-type {\n",
              "        vertical-align: middle;\n",
              "    }\n",
              "\n",
              "    .dataframe tbody tr th {\n",
              "        vertical-align: top;\n",
              "    }\n",
              "\n",
              "    .dataframe thead th {\n",
              "        text-align: right;\n",
              "    }\n",
              "</style>\n",
              "<table border=\"1\" class=\"dataframe\">\n",
              "  <thead>\n",
              "    <tr style=\"text-align: right;\">\n",
              "      <th></th>\n",
              "      <th></th>\n",
              "      <th></th>\n",
              "      <th></th>\n",
              "      <th>id</th>\n",
              "      <th>sex</th>\n",
              "      <th>birth_year</th>\n",
              "      <th>country</th>\n",
              "      <th>region</th>\n",
              "      <th>group</th>\n",
              "      <th>infection_reason</th>\n",
              "      <th>confirmed_date</th>\n",
              "      <th>released_date</th>\n",
              "      <th>deceased_date</th>\n",
              "      <th>state</th>\n",
              "    </tr>\n",
              "    <tr>\n",
              "      <th>region_cat</th>\n",
              "      <th>infection_order</th>\n",
              "      <th>contact_number</th>\n",
              "      <th>infected_by</th>\n",
              "      <th></th>\n",
              "      <th></th>\n",
              "      <th></th>\n",
              "      <th></th>\n",
              "      <th></th>\n",
              "      <th></th>\n",
              "      <th></th>\n",
              "      <th></th>\n",
              "      <th></th>\n",
              "      <th></th>\n",
              "      <th></th>\n",
              "    </tr>\n",
              "  </thead>\n",
              "  <tbody>\n",
              "    <tr>\n",
              "      <th rowspan=\"18\" valign=\"top\">2</th>\n",
              "      <th>1.0</th>\n",
              "      <th>0.0</th>\n",
              "      <th>27.0</th>\n",
              "      <td>1</td>\n",
              "      <td>1</td>\n",
              "      <td>1</td>\n",
              "      <td>1</td>\n",
              "      <td>1</td>\n",
              "      <td>0</td>\n",
              "      <td>1</td>\n",
              "      <td>1</td>\n",
              "      <td>0</td>\n",
              "      <td>0</td>\n",
              "      <td>1</td>\n",
              "    </tr>\n",
              "    <tr>\n",
              "      <th rowspan=\"5\" valign=\"top\">2.0</th>\n",
              "      <th>1.0</th>\n",
              "      <th>3.0</th>\n",
              "      <td>1</td>\n",
              "      <td>1</td>\n",
              "      <td>1</td>\n",
              "      <td>1</td>\n",
              "      <td>1</td>\n",
              "      <td>0</td>\n",
              "      <td>1</td>\n",
              "      <td>1</td>\n",
              "      <td>1</td>\n",
              "      <td>0</td>\n",
              "      <td>1</td>\n",
              "    </tr>\n",
              "    <tr>\n",
              "      <th>2.0</th>\n",
              "      <th>5.0</th>\n",
              "      <td>1</td>\n",
              "      <td>1</td>\n",
              "      <td>1</td>\n",
              "      <td>1</td>\n",
              "      <td>1</td>\n",
              "      <td>0</td>\n",
              "      <td>1</td>\n",
              "      <td>1</td>\n",
              "      <td>1</td>\n",
              "      <td>0</td>\n",
              "      <td>1</td>\n",
              "    </tr>\n",
              "    <tr>\n",
              "      <th>12.0</th>\n",
              "      <th>27.0</th>\n",
              "      <td>1</td>\n",
              "      <td>1</td>\n",
              "      <td>1</td>\n",
              "      <td>1</td>\n",
              "      <td>1</td>\n",
              "      <td>0</td>\n",
              "      <td>1</td>\n",
              "      <td>1</td>\n",
              "      <td>0</td>\n",
              "      <td>0</td>\n",
              "      <td>1</td>\n",
              "    </tr>\n",
              "    <tr>\n",
              "      <th>15.0</th>\n",
              "      <th>4.0</th>\n",
              "      <td>1</td>\n",
              "      <td>1</td>\n",
              "      <td>1</td>\n",
              "      <td>1</td>\n",
              "      <td>1</td>\n",
              "      <td>0</td>\n",
              "      <td>1</td>\n",
              "      <td>1</td>\n",
              "      <td>1</td>\n",
              "      <td>0</td>\n",
              "      <td>1</td>\n",
              "    </tr>\n",
              "    <tr>\n",
              "      <th>17.0</th>\n",
              "      <th>3.0</th>\n",
              "      <td>1</td>\n",
              "      <td>1</td>\n",
              "      <td>1</td>\n",
              "      <td>1</td>\n",
              "      <td>1</td>\n",
              "      <td>0</td>\n",
              "      <td>1</td>\n",
              "      <td>1</td>\n",
              "      <td>1</td>\n",
              "      <td>0</td>\n",
              "      <td>1</td>\n",
              "    </tr>\n",
              "    <tr>\n",
              "      <th rowspan=\"6\" valign=\"top\">3.0</th>\n",
              "      <th>0.0</th>\n",
              "      <th>6.0</th>\n",
              "      <td>1</td>\n",
              "      <td>1</td>\n",
              "      <td>1</td>\n",
              "      <td>1</td>\n",
              "      <td>1</td>\n",
              "      <td>0</td>\n",
              "      <td>1</td>\n",
              "      <td>1</td>\n",
              "      <td>1</td>\n",
              "      <td>0</td>\n",
              "      <td>1</td>\n",
              "    </tr>\n",
              "    <tr>\n",
              "      <th>2.0</th>\n",
              "      <th>15.0</th>\n",
              "      <td>1</td>\n",
              "      <td>1</td>\n",
              "      <td>1</td>\n",
              "      <td>1</td>\n",
              "      <td>1</td>\n",
              "      <td>0</td>\n",
              "      <td>1</td>\n",
              "      <td>1</td>\n",
              "      <td>1</td>\n",
              "      <td>0</td>\n",
              "      <td>1</td>\n",
              "    </tr>\n",
              "    <tr>\n",
              "      <th>3.0</th>\n",
              "      <th>12.0</th>\n",
              "      <td>1</td>\n",
              "      <td>1</td>\n",
              "      <td>1</td>\n",
              "      <td>1</td>\n",
              "      <td>1</td>\n",
              "      <td>0</td>\n",
              "      <td>1</td>\n",
              "      <td>1</td>\n",
              "      <td>1</td>\n",
              "      <td>0</td>\n",
              "      <td>1</td>\n",
              "    </tr>\n",
              "    <tr>\n",
              "      <th>6.0</th>\n",
              "      <th>6.0</th>\n",
              "      <td>1</td>\n",
              "      <td>1</td>\n",
              "      <td>1</td>\n",
              "      <td>1</td>\n",
              "      <td>1</td>\n",
              "      <td>0</td>\n",
              "      <td>1</td>\n",
              "      <td>1</td>\n",
              "      <td>1</td>\n",
              "      <td>0</td>\n",
              "      <td>1</td>\n",
              "    </tr>\n",
              "    <tr>\n",
              "      <th>43.0</th>\n",
              "      <th>6.0</th>\n",
              "      <td>1</td>\n",
              "      <td>1</td>\n",
              "      <td>1</td>\n",
              "      <td>1</td>\n",
              "      <td>1</td>\n",
              "      <td>0</td>\n",
              "      <td>1</td>\n",
              "      <td>1</td>\n",
              "      <td>1</td>\n",
              "      <td>0</td>\n",
              "      <td>1</td>\n",
              "    </tr>\n",
              "    <tr>\n",
              "      <th>69.0</th>\n",
              "      <th>6.0</th>\n",
              "      <td>1</td>\n",
              "      <td>1</td>\n",
              "      <td>1</td>\n",
              "      <td>1</td>\n",
              "      <td>1</td>\n",
              "      <td>0</td>\n",
              "      <td>1</td>\n",
              "      <td>1</td>\n",
              "      <td>1</td>\n",
              "      <td>0</td>\n",
              "      <td>1</td>\n",
              "    </tr>\n",
              "    <tr>\n",
              "      <th rowspan=\"2\" valign=\"top\">4.0</th>\n",
              "      <th>69.0</th>\n",
              "      <th>83.0</th>\n",
              "      <td>1</td>\n",
              "      <td>1</td>\n",
              "      <td>1</td>\n",
              "      <td>1</td>\n",
              "      <td>1</td>\n",
              "      <td>0</td>\n",
              "      <td>1</td>\n",
              "      <td>1</td>\n",
              "      <td>0</td>\n",
              "      <td>0</td>\n",
              "      <td>1</td>\n",
              "    </tr>\n",
              "    <tr>\n",
              "      <th>117.0</th>\n",
              "      <th>83.0</th>\n",
              "      <td>1</td>\n",
              "      <td>1</td>\n",
              "      <td>1</td>\n",
              "      <td>1</td>\n",
              "      <td>1</td>\n",
              "      <td>0</td>\n",
              "      <td>1</td>\n",
              "      <td>1</td>\n",
              "      <td>0</td>\n",
              "      <td>0</td>\n",
              "      <td>1</td>\n",
              "    </tr>\n",
              "    <tr>\n",
              "      <th rowspan=\"3\" valign=\"top\">5.0</th>\n",
              "      <th>27.0</th>\n",
              "      <th>29.0</th>\n",
              "      <td>1</td>\n",
              "      <td>1</td>\n",
              "      <td>1</td>\n",
              "      <td>1</td>\n",
              "      <td>1</td>\n",
              "      <td>0</td>\n",
              "      <td>1</td>\n",
              "      <td>1</td>\n",
              "      <td>0</td>\n",
              "      <td>0</td>\n",
              "      <td>1</td>\n",
              "    </tr>\n",
              "    <tr>\n",
              "      <th rowspan=\"2\" valign=\"top\">69.0</th>\n",
              "      <th>56.0</th>\n",
              "      <td>1</td>\n",
              "      <td>1</td>\n",
              "      <td>1</td>\n",
              "      <td>1</td>\n",
              "      <td>1</td>\n",
              "      <td>0</td>\n",
              "      <td>1</td>\n",
              "      <td>1</td>\n",
              "      <td>0</td>\n",
              "      <td>0</td>\n",
              "      <td>1</td>\n",
              "    </tr>\n",
              "    <tr>\n",
              "      <th>136.0</th>\n",
              "      <td>1</td>\n",
              "      <td>1</td>\n",
              "      <td>1</td>\n",
              "      <td>1</td>\n",
              "      <td>1</td>\n",
              "      <td>0</td>\n",
              "      <td>1</td>\n",
              "      <td>1</td>\n",
              "      <td>0</td>\n",
              "      <td>0</td>\n",
              "      <td>1</td>\n",
              "    </tr>\n",
              "    <tr>\n",
              "      <th>6.0</th>\n",
              "      <th>69.0</th>\n",
              "      <th>30.0</th>\n",
              "      <td>1</td>\n",
              "      <td>1</td>\n",
              "      <td>1</td>\n",
              "      <td>1</td>\n",
              "      <td>1</td>\n",
              "      <td>0</td>\n",
              "      <td>1</td>\n",
              "      <td>1</td>\n",
              "      <td>0</td>\n",
              "      <td>0</td>\n",
              "      <td>1</td>\n",
              "    </tr>\n",
              "    <tr>\n",
              "      <th rowspan=\"2\" valign=\"top\">4</th>\n",
              "      <th rowspan=\"2\" valign=\"top\">2.0</th>\n",
              "      <th>1.0</th>\n",
              "      <th>16.0</th>\n",
              "      <td>1</td>\n",
              "      <td>1</td>\n",
              "      <td>1</td>\n",
              "      <td>1</td>\n",
              "      <td>1</td>\n",
              "      <td>0</td>\n",
              "      <td>1</td>\n",
              "      <td>1</td>\n",
              "      <td>1</td>\n",
              "      <td>0</td>\n",
              "      <td>1</td>\n",
              "    </tr>\n",
              "    <tr>\n",
              "      <th>8.0</th>\n",
              "      <th>16.0</th>\n",
              "      <td>1</td>\n",
              "      <td>1</td>\n",
              "      <td>1</td>\n",
              "      <td>1</td>\n",
              "      <td>1</td>\n",
              "      <td>0</td>\n",
              "      <td>1</td>\n",
              "      <td>1</td>\n",
              "      <td>1</td>\n",
              "      <td>0</td>\n",
              "      <td>1</td>\n",
              "    </tr>\n",
              "  </tbody>\n",
              "</table>\n",
              "</div>"
            ],
            "text/plain": [
              "                                                       id  ...  state\n",
              "region_cat infection_order contact_number infected_by      ...       \n",
              "2          1.0             0.0            27.0          1  ...      1\n",
              "           2.0             1.0            3.0           1  ...      1\n",
              "                           2.0            5.0           1  ...      1\n",
              "                           12.0           27.0          1  ...      1\n",
              "                           15.0           4.0           1  ...      1\n",
              "                           17.0           3.0           1  ...      1\n",
              "           3.0             0.0            6.0           1  ...      1\n",
              "                           2.0            15.0          1  ...      1\n",
              "                           3.0            12.0          1  ...      1\n",
              "                           6.0            6.0           1  ...      1\n",
              "                           43.0           6.0           1  ...      1\n",
              "                           69.0           6.0           1  ...      1\n",
              "           4.0             69.0           83.0          1  ...      1\n",
              "                           117.0          83.0          1  ...      1\n",
              "           5.0             27.0           29.0          1  ...      1\n",
              "                           69.0           56.0          1  ...      1\n",
              "                                          136.0         1  ...      1\n",
              "           6.0             69.0           30.0          1  ...      1\n",
              "4          2.0             1.0            16.0          1  ...      1\n",
              "                           8.0            16.0          1  ...      1\n",
              "\n",
              "[20 rows x 11 columns]"
            ]
          },
          "metadata": {
            "tags": []
          },
          "execution_count": 256
        }
      ]
    },
    {
      "cell_type": "code",
      "metadata": {
        "id": "ir_PKG_zbZ-_",
        "colab_type": "code",
        "outputId": "77d3fecf-ed7d-4536-bf4f-9bc46ff1582c",
        "colab": {
          "base_uri": "https://localhost:8080/",
          "height": 720
        }
      },
      "source": [
        "df_copy.groupby([\"region_cat\", \"infection_order\", \"contact_number\", \"infected_by\"]).count()"
      ],
      "execution_count": 0,
      "outputs": [
        {
          "output_type": "execute_result",
          "data": {
            "text/html": [
              "<div>\n",
              "<style scoped>\n",
              "    .dataframe tbody tr th:only-of-type {\n",
              "        vertical-align: middle;\n",
              "    }\n",
              "\n",
              "    .dataframe tbody tr th {\n",
              "        vertical-align: top;\n",
              "    }\n",
              "\n",
              "    .dataframe thead th {\n",
              "        text-align: right;\n",
              "    }\n",
              "</style>\n",
              "<table border=\"1\" class=\"dataframe\">\n",
              "  <thead>\n",
              "    <tr style=\"text-align: right;\">\n",
              "      <th></th>\n",
              "      <th></th>\n",
              "      <th></th>\n",
              "      <th></th>\n",
              "      <th>id</th>\n",
              "      <th>sex</th>\n",
              "      <th>birth_year</th>\n",
              "      <th>country</th>\n",
              "      <th>region</th>\n",
              "      <th>group</th>\n",
              "      <th>infection_reason</th>\n",
              "      <th>confirmed_date</th>\n",
              "      <th>released_date</th>\n",
              "      <th>deceased_date</th>\n",
              "      <th>state</th>\n",
              "    </tr>\n",
              "    <tr>\n",
              "      <th>region_cat</th>\n",
              "      <th>infection_order</th>\n",
              "      <th>contact_number</th>\n",
              "      <th>infected_by</th>\n",
              "      <th></th>\n",
              "      <th></th>\n",
              "      <th></th>\n",
              "      <th></th>\n",
              "      <th></th>\n",
              "      <th></th>\n",
              "      <th></th>\n",
              "      <th></th>\n",
              "      <th></th>\n",
              "      <th></th>\n",
              "      <th></th>\n",
              "    </tr>\n",
              "  </thead>\n",
              "  <tbody>\n",
              "    <tr>\n",
              "      <th rowspan=\"18\" valign=\"top\">2</th>\n",
              "      <th>1.0</th>\n",
              "      <th>0.0</th>\n",
              "      <th>27.0</th>\n",
              "      <td>1</td>\n",
              "      <td>1</td>\n",
              "      <td>1</td>\n",
              "      <td>1</td>\n",
              "      <td>1</td>\n",
              "      <td>0</td>\n",
              "      <td>1</td>\n",
              "      <td>1</td>\n",
              "      <td>0</td>\n",
              "      <td>0</td>\n",
              "      <td>1</td>\n",
              "    </tr>\n",
              "    <tr>\n",
              "      <th rowspan=\"5\" valign=\"top\">2.0</th>\n",
              "      <th>1.0</th>\n",
              "      <th>3.0</th>\n",
              "      <td>1</td>\n",
              "      <td>1</td>\n",
              "      <td>1</td>\n",
              "      <td>1</td>\n",
              "      <td>1</td>\n",
              "      <td>0</td>\n",
              "      <td>1</td>\n",
              "      <td>1</td>\n",
              "      <td>1</td>\n",
              "      <td>0</td>\n",
              "      <td>1</td>\n",
              "    </tr>\n",
              "    <tr>\n",
              "      <th>2.0</th>\n",
              "      <th>5.0</th>\n",
              "      <td>1</td>\n",
              "      <td>1</td>\n",
              "      <td>1</td>\n",
              "      <td>1</td>\n",
              "      <td>1</td>\n",
              "      <td>0</td>\n",
              "      <td>1</td>\n",
              "      <td>1</td>\n",
              "      <td>1</td>\n",
              "      <td>0</td>\n",
              "      <td>1</td>\n",
              "    </tr>\n",
              "    <tr>\n",
              "      <th>12.0</th>\n",
              "      <th>27.0</th>\n",
              "      <td>1</td>\n",
              "      <td>1</td>\n",
              "      <td>1</td>\n",
              "      <td>1</td>\n",
              "      <td>1</td>\n",
              "      <td>0</td>\n",
              "      <td>1</td>\n",
              "      <td>1</td>\n",
              "      <td>0</td>\n",
              "      <td>0</td>\n",
              "      <td>1</td>\n",
              "    </tr>\n",
              "    <tr>\n",
              "      <th>15.0</th>\n",
              "      <th>4.0</th>\n",
              "      <td>1</td>\n",
              "      <td>1</td>\n",
              "      <td>1</td>\n",
              "      <td>1</td>\n",
              "      <td>1</td>\n",
              "      <td>0</td>\n",
              "      <td>1</td>\n",
              "      <td>1</td>\n",
              "      <td>1</td>\n",
              "      <td>0</td>\n",
              "      <td>1</td>\n",
              "    </tr>\n",
              "    <tr>\n",
              "      <th>17.0</th>\n",
              "      <th>3.0</th>\n",
              "      <td>1</td>\n",
              "      <td>1</td>\n",
              "      <td>1</td>\n",
              "      <td>1</td>\n",
              "      <td>1</td>\n",
              "      <td>0</td>\n",
              "      <td>1</td>\n",
              "      <td>1</td>\n",
              "      <td>1</td>\n",
              "      <td>0</td>\n",
              "      <td>1</td>\n",
              "    </tr>\n",
              "    <tr>\n",
              "      <th rowspan=\"6\" valign=\"top\">3.0</th>\n",
              "      <th>0.0</th>\n",
              "      <th>6.0</th>\n",
              "      <td>1</td>\n",
              "      <td>1</td>\n",
              "      <td>1</td>\n",
              "      <td>1</td>\n",
              "      <td>1</td>\n",
              "      <td>0</td>\n",
              "      <td>1</td>\n",
              "      <td>1</td>\n",
              "      <td>1</td>\n",
              "      <td>0</td>\n",
              "      <td>1</td>\n",
              "    </tr>\n",
              "    <tr>\n",
              "      <th>2.0</th>\n",
              "      <th>15.0</th>\n",
              "      <td>1</td>\n",
              "      <td>1</td>\n",
              "      <td>1</td>\n",
              "      <td>1</td>\n",
              "      <td>1</td>\n",
              "      <td>0</td>\n",
              "      <td>1</td>\n",
              "      <td>1</td>\n",
              "      <td>1</td>\n",
              "      <td>0</td>\n",
              "      <td>1</td>\n",
              "    </tr>\n",
              "    <tr>\n",
              "      <th>3.0</th>\n",
              "      <th>12.0</th>\n",
              "      <td>1</td>\n",
              "      <td>1</td>\n",
              "      <td>1</td>\n",
              "      <td>1</td>\n",
              "      <td>1</td>\n",
              "      <td>0</td>\n",
              "      <td>1</td>\n",
              "      <td>1</td>\n",
              "      <td>1</td>\n",
              "      <td>0</td>\n",
              "      <td>1</td>\n",
              "    </tr>\n",
              "    <tr>\n",
              "      <th>6.0</th>\n",
              "      <th>6.0</th>\n",
              "      <td>1</td>\n",
              "      <td>1</td>\n",
              "      <td>1</td>\n",
              "      <td>1</td>\n",
              "      <td>1</td>\n",
              "      <td>0</td>\n",
              "      <td>1</td>\n",
              "      <td>1</td>\n",
              "      <td>1</td>\n",
              "      <td>0</td>\n",
              "      <td>1</td>\n",
              "    </tr>\n",
              "    <tr>\n",
              "      <th>43.0</th>\n",
              "      <th>6.0</th>\n",
              "      <td>1</td>\n",
              "      <td>1</td>\n",
              "      <td>1</td>\n",
              "      <td>1</td>\n",
              "      <td>1</td>\n",
              "      <td>0</td>\n",
              "      <td>1</td>\n",
              "      <td>1</td>\n",
              "      <td>1</td>\n",
              "      <td>0</td>\n",
              "      <td>1</td>\n",
              "    </tr>\n",
              "    <tr>\n",
              "      <th>69.0</th>\n",
              "      <th>6.0</th>\n",
              "      <td>1</td>\n",
              "      <td>1</td>\n",
              "      <td>1</td>\n",
              "      <td>1</td>\n",
              "      <td>1</td>\n",
              "      <td>0</td>\n",
              "      <td>1</td>\n",
              "      <td>1</td>\n",
              "      <td>1</td>\n",
              "      <td>0</td>\n",
              "      <td>1</td>\n",
              "    </tr>\n",
              "    <tr>\n",
              "      <th rowspan=\"2\" valign=\"top\">4.0</th>\n",
              "      <th>69.0</th>\n",
              "      <th>83.0</th>\n",
              "      <td>1</td>\n",
              "      <td>1</td>\n",
              "      <td>1</td>\n",
              "      <td>1</td>\n",
              "      <td>1</td>\n",
              "      <td>0</td>\n",
              "      <td>1</td>\n",
              "      <td>1</td>\n",
              "      <td>0</td>\n",
              "      <td>0</td>\n",
              "      <td>1</td>\n",
              "    </tr>\n",
              "    <tr>\n",
              "      <th>117.0</th>\n",
              "      <th>83.0</th>\n",
              "      <td>1</td>\n",
              "      <td>1</td>\n",
              "      <td>1</td>\n",
              "      <td>1</td>\n",
              "      <td>1</td>\n",
              "      <td>0</td>\n",
              "      <td>1</td>\n",
              "      <td>1</td>\n",
              "      <td>0</td>\n",
              "      <td>0</td>\n",
              "      <td>1</td>\n",
              "    </tr>\n",
              "    <tr>\n",
              "      <th rowspan=\"3\" valign=\"top\">5.0</th>\n",
              "      <th>27.0</th>\n",
              "      <th>29.0</th>\n",
              "      <td>1</td>\n",
              "      <td>1</td>\n",
              "      <td>1</td>\n",
              "      <td>1</td>\n",
              "      <td>1</td>\n",
              "      <td>0</td>\n",
              "      <td>1</td>\n",
              "      <td>1</td>\n",
              "      <td>0</td>\n",
              "      <td>0</td>\n",
              "      <td>1</td>\n",
              "    </tr>\n",
              "    <tr>\n",
              "      <th rowspan=\"2\" valign=\"top\">69.0</th>\n",
              "      <th>56.0</th>\n",
              "      <td>1</td>\n",
              "      <td>1</td>\n",
              "      <td>1</td>\n",
              "      <td>1</td>\n",
              "      <td>1</td>\n",
              "      <td>0</td>\n",
              "      <td>1</td>\n",
              "      <td>1</td>\n",
              "      <td>0</td>\n",
              "      <td>0</td>\n",
              "      <td>1</td>\n",
              "    </tr>\n",
              "    <tr>\n",
              "      <th>136.0</th>\n",
              "      <td>1</td>\n",
              "      <td>1</td>\n",
              "      <td>1</td>\n",
              "      <td>1</td>\n",
              "      <td>1</td>\n",
              "      <td>0</td>\n",
              "      <td>1</td>\n",
              "      <td>1</td>\n",
              "      <td>0</td>\n",
              "      <td>0</td>\n",
              "      <td>1</td>\n",
              "    </tr>\n",
              "    <tr>\n",
              "      <th>6.0</th>\n",
              "      <th>69.0</th>\n",
              "      <th>30.0</th>\n",
              "      <td>1</td>\n",
              "      <td>1</td>\n",
              "      <td>1</td>\n",
              "      <td>1</td>\n",
              "      <td>1</td>\n",
              "      <td>0</td>\n",
              "      <td>1</td>\n",
              "      <td>1</td>\n",
              "      <td>0</td>\n",
              "      <td>0</td>\n",
              "      <td>1</td>\n",
              "    </tr>\n",
              "    <tr>\n",
              "      <th rowspan=\"2\" valign=\"top\">4</th>\n",
              "      <th rowspan=\"2\" valign=\"top\">2.0</th>\n",
              "      <th>1.0</th>\n",
              "      <th>16.0</th>\n",
              "      <td>1</td>\n",
              "      <td>1</td>\n",
              "      <td>1</td>\n",
              "      <td>1</td>\n",
              "      <td>1</td>\n",
              "      <td>0</td>\n",
              "      <td>1</td>\n",
              "      <td>1</td>\n",
              "      <td>1</td>\n",
              "      <td>0</td>\n",
              "      <td>1</td>\n",
              "    </tr>\n",
              "    <tr>\n",
              "      <th>8.0</th>\n",
              "      <th>16.0</th>\n",
              "      <td>1</td>\n",
              "      <td>1</td>\n",
              "      <td>1</td>\n",
              "      <td>1</td>\n",
              "      <td>1</td>\n",
              "      <td>0</td>\n",
              "      <td>1</td>\n",
              "      <td>1</td>\n",
              "      <td>1</td>\n",
              "      <td>0</td>\n",
              "      <td>1</td>\n",
              "    </tr>\n",
              "  </tbody>\n",
              "</table>\n",
              "</div>"
            ],
            "text/plain": [
              "                                                       id  ...  state\n",
              "region_cat infection_order contact_number infected_by      ...       \n",
              "2          1.0             0.0            27.0          1  ...      1\n",
              "           2.0             1.0            3.0           1  ...      1\n",
              "                           2.0            5.0           1  ...      1\n",
              "                           12.0           27.0          1  ...      1\n",
              "                           15.0           4.0           1  ...      1\n",
              "                           17.0           3.0           1  ...      1\n",
              "           3.0             0.0            6.0           1  ...      1\n",
              "                           2.0            15.0          1  ...      1\n",
              "                           3.0            12.0          1  ...      1\n",
              "                           6.0            6.0           1  ...      1\n",
              "                           43.0           6.0           1  ...      1\n",
              "                           69.0           6.0           1  ...      1\n",
              "           4.0             69.0           83.0          1  ...      1\n",
              "                           117.0          83.0          1  ...      1\n",
              "           5.0             27.0           29.0          1  ...      1\n",
              "                           69.0           56.0          1  ...      1\n",
              "                                          136.0         1  ...      1\n",
              "           6.0             69.0           30.0          1  ...      1\n",
              "4          2.0             1.0            16.0          1  ...      1\n",
              "                           8.0            16.0          1  ...      1\n",
              "\n",
              "[20 rows x 11 columns]"
            ]
          },
          "metadata": {
            "tags": []
          },
          "execution_count": 257
        }
      ]
    },
    {
      "cell_type": "code",
      "metadata": {
        "id": "E--T0ZQzbc3G",
        "colab_type": "code",
        "outputId": "20b314d6-7e65-45e5-c9d7-a04338340d71",
        "colab": {
          "base_uri": "https://localhost:8080/",
          "height": 390
        }
      },
      "source": [
        "df_copy.groupby([\"region_cat\", \"infection_order\"])[[\"contact_number\", \"infected_by\"]].count()"
      ],
      "execution_count": 0,
      "outputs": [
        {
          "output_type": "execute_result",
          "data": {
            "text/html": [
              "<div>\n",
              "<style scoped>\n",
              "    .dataframe tbody tr th:only-of-type {\n",
              "        vertical-align: middle;\n",
              "    }\n",
              "\n",
              "    .dataframe tbody tr th {\n",
              "        vertical-align: top;\n",
              "    }\n",
              "\n",
              "    .dataframe thead th {\n",
              "        text-align: right;\n",
              "    }\n",
              "</style>\n",
              "<table border=\"1\" class=\"dataframe\">\n",
              "  <thead>\n",
              "    <tr style=\"text-align: right;\">\n",
              "      <th></th>\n",
              "      <th></th>\n",
              "      <th>contact_number</th>\n",
              "      <th>infected_by</th>\n",
              "    </tr>\n",
              "    <tr>\n",
              "      <th>region_cat</th>\n",
              "      <th>infection_order</th>\n",
              "      <th></th>\n",
              "      <th></th>\n",
              "    </tr>\n",
              "  </thead>\n",
              "  <tbody>\n",
              "    <tr>\n",
              "      <th>1</th>\n",
              "      <th>1.0</th>\n",
              "      <td>4</td>\n",
              "      <td>0</td>\n",
              "    </tr>\n",
              "    <tr>\n",
              "      <th rowspan=\"6\" valign=\"top\">2</th>\n",
              "      <th>1.0</th>\n",
              "      <td>7</td>\n",
              "      <td>1</td>\n",
              "    </tr>\n",
              "    <tr>\n",
              "      <th>2.0</th>\n",
              "      <td>8</td>\n",
              "      <td>5</td>\n",
              "    </tr>\n",
              "    <tr>\n",
              "      <th>3.0</th>\n",
              "      <td>6</td>\n",
              "      <td>6</td>\n",
              "    </tr>\n",
              "    <tr>\n",
              "      <th>4.0</th>\n",
              "      <td>2</td>\n",
              "      <td>2</td>\n",
              "    </tr>\n",
              "    <tr>\n",
              "      <th>5.0</th>\n",
              "      <td>3</td>\n",
              "      <td>3</td>\n",
              "    </tr>\n",
              "    <tr>\n",
              "      <th>6.0</th>\n",
              "      <td>1</td>\n",
              "      <td>1</td>\n",
              "    </tr>\n",
              "    <tr>\n",
              "      <th>3</th>\n",
              "      <th>1.0</th>\n",
              "      <td>1</td>\n",
              "      <td>0</td>\n",
              "    </tr>\n",
              "    <tr>\n",
              "      <th rowspan=\"2\" valign=\"top\">4</th>\n",
              "      <th>1.0</th>\n",
              "      <td>1</td>\n",
              "      <td>0</td>\n",
              "    </tr>\n",
              "    <tr>\n",
              "      <th>2.0</th>\n",
              "      <td>2</td>\n",
              "      <td>2</td>\n",
              "    </tr>\n",
              "  </tbody>\n",
              "</table>\n",
              "</div>"
            ],
            "text/plain": [
              "                            contact_number  infected_by\n",
              "region_cat infection_order                             \n",
              "1          1.0                           4            0\n",
              "2          1.0                           7            1\n",
              "           2.0                           8            5\n",
              "           3.0                           6            6\n",
              "           4.0                           2            2\n",
              "           5.0                           3            3\n",
              "           6.0                           1            1\n",
              "3          1.0                           1            0\n",
              "4          1.0                           1            0\n",
              "           2.0                           2            2"
            ]
          },
          "metadata": {
            "tags": []
          },
          "execution_count": 258
        }
      ]
    },
    {
      "cell_type": "code",
      "metadata": {
        "id": "zUPYHpD3bfVz",
        "colab_type": "code",
        "outputId": "77cba5f6-a11b-40b9-90db-44e3d3def04b",
        "colab": {
          "base_uri": "https://localhost:8080/",
          "height": 221
        }
      },
      "source": [
        "df_copy.region_cat"
      ],
      "execution_count": 0,
      "outputs": [
        {
          "output_type": "execute_result",
          "data": {
            "text/plain": [
              "0       1\n",
              "1       1\n",
              "2       2\n",
              "3       2\n",
              "4       2\n",
              "       ..\n",
              "5761    7\n",
              "5762    7\n",
              "5763    7\n",
              "5764    7\n",
              "5765    7\n",
              "Name: region_cat, Length: 5766, dtype: int64"
            ]
          },
          "metadata": {
            "tags": []
          },
          "execution_count": 259
        }
      ]
    },
    {
      "cell_type": "code",
      "metadata": {
        "id": "YvzoOYfybifG",
        "colab_type": "code",
        "outputId": "899eb186-3c36-4fa7-a3c6-e47511564cdc",
        "colab": {
          "base_uri": "https://localhost:8080/",
          "height": 224
        }
      },
      "source": [
        "df_sample = df.sample(frac=0.05, random_state=1)\n",
        "df_sample.head()"
      ],
      "execution_count": 0,
      "outputs": [
        {
          "output_type": "execute_result",
          "data": {
            "text/html": [
              "<div>\n",
              "<style scoped>\n",
              "    .dataframe tbody tr th:only-of-type {\n",
              "        vertical-align: middle;\n",
              "    }\n",
              "\n",
              "    .dataframe tbody tr th {\n",
              "        vertical-align: top;\n",
              "    }\n",
              "\n",
              "    .dataframe thead th {\n",
              "        text-align: right;\n",
              "    }\n",
              "</style>\n",
              "<table border=\"1\" class=\"dataframe\">\n",
              "  <thead>\n",
              "    <tr style=\"text-align: right;\">\n",
              "      <th></th>\n",
              "      <th>id</th>\n",
              "      <th>sex</th>\n",
              "      <th>birth_year</th>\n",
              "      <th>country</th>\n",
              "      <th>region</th>\n",
              "      <th>group</th>\n",
              "      <th>infection_reason</th>\n",
              "      <th>infection_order</th>\n",
              "      <th>infected_by</th>\n",
              "      <th>contact_number</th>\n",
              "      <th>confirmed_date</th>\n",
              "      <th>released_date</th>\n",
              "      <th>deceased_date</th>\n",
              "      <th>state</th>\n",
              "    </tr>\n",
              "  </thead>\n",
              "  <tbody>\n",
              "    <tr>\n",
              "      <th>4268</th>\n",
              "      <td>4269</td>\n",
              "      <td>NaN</td>\n",
              "      <td>NaN</td>\n",
              "      <td>Korea</td>\n",
              "      <td>NaN</td>\n",
              "      <td>NaN</td>\n",
              "      <td>NaN</td>\n",
              "      <td>NaN</td>\n",
              "      <td>NaN</td>\n",
              "      <td>NaN</td>\n",
              "      <td>2020-03-02</td>\n",
              "      <td>NaN</td>\n",
              "      <td>NaN</td>\n",
              "      <td>isolated</td>\n",
              "    </tr>\n",
              "    <tr>\n",
              "      <th>4073</th>\n",
              "      <td>4074</td>\n",
              "      <td>NaN</td>\n",
              "      <td>NaN</td>\n",
              "      <td>Korea</td>\n",
              "      <td>NaN</td>\n",
              "      <td>NaN</td>\n",
              "      <td>NaN</td>\n",
              "      <td>NaN</td>\n",
              "      <td>NaN</td>\n",
              "      <td>NaN</td>\n",
              "      <td>2020-03-01</td>\n",
              "      <td>NaN</td>\n",
              "      <td>NaN</td>\n",
              "      <td>isolated</td>\n",
              "    </tr>\n",
              "    <tr>\n",
              "      <th>1379</th>\n",
              "      <td>1380</td>\n",
              "      <td>NaN</td>\n",
              "      <td>NaN</td>\n",
              "      <td>Korea</td>\n",
              "      <td>NaN</td>\n",
              "      <td>NaN</td>\n",
              "      <td>NaN</td>\n",
              "      <td>NaN</td>\n",
              "      <td>NaN</td>\n",
              "      <td>NaN</td>\n",
              "      <td>2020-02-27</td>\n",
              "      <td>NaN</td>\n",
              "      <td>NaN</td>\n",
              "      <td>isolated</td>\n",
              "    </tr>\n",
              "    <tr>\n",
              "      <th>354</th>\n",
              "      <td>355</td>\n",
              "      <td>NaN</td>\n",
              "      <td>NaN</td>\n",
              "      <td>Korea</td>\n",
              "      <td>NaN</td>\n",
              "      <td>NaN</td>\n",
              "      <td>NaN</td>\n",
              "      <td>NaN</td>\n",
              "      <td>NaN</td>\n",
              "      <td>NaN</td>\n",
              "      <td>2020-02-22</td>\n",
              "      <td>NaN</td>\n",
              "      <td>NaN</td>\n",
              "      <td>isolated</td>\n",
              "    </tr>\n",
              "    <tr>\n",
              "      <th>1023</th>\n",
              "      <td>1024</td>\n",
              "      <td>NaN</td>\n",
              "      <td>NaN</td>\n",
              "      <td>Korea</td>\n",
              "      <td>NaN</td>\n",
              "      <td>NaN</td>\n",
              "      <td>NaN</td>\n",
              "      <td>NaN</td>\n",
              "      <td>NaN</td>\n",
              "      <td>NaN</td>\n",
              "      <td>2020-02-26</td>\n",
              "      <td>NaN</td>\n",
              "      <td>NaN</td>\n",
              "      <td>isolated</td>\n",
              "    </tr>\n",
              "  </tbody>\n",
              "</table>\n",
              "</div>"
            ],
            "text/plain": [
              "        id  sex  birth_year  ... released_date deceased_date     state\n",
              "4268  4269  NaN         NaN  ...           NaN           NaN  isolated\n",
              "4073  4074  NaN         NaN  ...           NaN           NaN  isolated\n",
              "1379  1380  NaN         NaN  ...           NaN           NaN  isolated\n",
              "354    355  NaN         NaN  ...           NaN           NaN  isolated\n",
              "1023  1024  NaN         NaN  ...           NaN           NaN  isolated\n",
              "\n",
              "[5 rows x 14 columns]"
            ]
          },
          "metadata": {
            "tags": []
          },
          "execution_count": 260
        }
      ]
    },
    {
      "cell_type": "code",
      "metadata": {
        "id": "S8Yc9MOTbkRO",
        "colab_type": "code",
        "outputId": "9c7f2056-769f-4bfc-80cd-33bacacb96cf",
        "colab": {
          "base_uri": "https://localhost:8080/",
          "height": 204
        }
      },
      "source": [
        "# variant-1: multiple aggregations on single attribute\n",
        "df_sample.groupby([\"region\", \"infection_order\"])[[\"contact_number\", \"infected_by\"]].agg([np.sum, np.mean,\n",
        "                                                              np.count_nonzero])"
      ],
      "execution_count": 0,
      "outputs": [
        {
          "output_type": "execute_result",
          "data": {
            "text/html": [
              "<div>\n",
              "<style scoped>\n",
              "    .dataframe tbody tr th:only-of-type {\n",
              "        vertical-align: middle;\n",
              "    }\n",
              "\n",
              "    .dataframe tbody tr th {\n",
              "        vertical-align: top;\n",
              "    }\n",
              "\n",
              "    .dataframe thead tr th {\n",
              "        text-align: left;\n",
              "    }\n",
              "\n",
              "    .dataframe thead tr:last-of-type th {\n",
              "        text-align: right;\n",
              "    }\n",
              "</style>\n",
              "<table border=\"1\" class=\"dataframe\">\n",
              "  <thead>\n",
              "    <tr>\n",
              "      <th></th>\n",
              "      <th></th>\n",
              "      <th colspan=\"3\" halign=\"left\">contact_number</th>\n",
              "      <th colspan=\"3\" halign=\"left\">infected_by</th>\n",
              "    </tr>\n",
              "    <tr>\n",
              "      <th></th>\n",
              "      <th></th>\n",
              "      <th>sum</th>\n",
              "      <th>mean</th>\n",
              "      <th>count_nonzero</th>\n",
              "      <th>sum</th>\n",
              "      <th>mean</th>\n",
              "      <th>count_nonzero</th>\n",
              "    </tr>\n",
              "    <tr>\n",
              "      <th>region</th>\n",
              "      <th>infection_order</th>\n",
              "      <th></th>\n",
              "      <th></th>\n",
              "      <th></th>\n",
              "      <th></th>\n",
              "      <th></th>\n",
              "      <th></th>\n",
              "    </tr>\n",
              "  </thead>\n",
              "  <tbody>\n",
              "    <tr>\n",
              "      <th>Gwangju</th>\n",
              "      <th>2.0</th>\n",
              "      <td>1.0</td>\n",
              "      <td>1.0</td>\n",
              "      <td>1.0</td>\n",
              "      <td>16.0</td>\n",
              "      <td>16.0</td>\n",
              "      <td>1.0</td>\n",
              "    </tr>\n",
              "    <tr>\n",
              "      <th rowspan=\"2\" valign=\"top\">capital area</th>\n",
              "      <th>1.0</th>\n",
              "      <td>31.0</td>\n",
              "      <td>31.0</td>\n",
              "      <td>1.0</td>\n",
              "      <td>0.0</td>\n",
              "      <td>NaN</td>\n",
              "      <td>1.0</td>\n",
              "    </tr>\n",
              "    <tr>\n",
              "      <th>4.0</th>\n",
              "      <td>117.0</td>\n",
              "      <td>117.0</td>\n",
              "      <td>1.0</td>\n",
              "      <td>83.0</td>\n",
              "      <td>83.0</td>\n",
              "      <td>1.0</td>\n",
              "    </tr>\n",
              "  </tbody>\n",
              "</table>\n",
              "</div>"
            ],
            "text/plain": [
              "                             contact_number         ... infected_by              \n",
              "                                        sum   mean  ...        mean count_nonzero\n",
              "region       infection_order                        ...                          \n",
              "Gwangju      2.0                        1.0    1.0  ...        16.0           1.0\n",
              "capital area 1.0                       31.0   31.0  ...         NaN           1.0\n",
              "             4.0                      117.0  117.0  ...        83.0           1.0\n",
              "\n",
              "[3 rows x 6 columns]"
            ]
          },
          "metadata": {
            "tags": []
          },
          "execution_count": 261
        }
      ]
    },
    {
      "cell_type": "code",
      "metadata": {
        "id": "nrwypRrbbtk6",
        "colab_type": "code",
        "outputId": "6fcb64a2-faea-45b6-d702-f840d56641db",
        "colab": {
          "base_uri": "https://localhost:8080/",
          "height": 173
        }
      },
      "source": [
        "# variant-2: different aggregation functions for each attribute \n",
        "\n",
        "df_sample.groupby([\"region\", \"infection_order\"]).agg({'contact_number':np.mean,'infected_by':np.max})"
      ],
      "execution_count": 0,
      "outputs": [
        {
          "output_type": "execute_result",
          "data": {
            "text/html": [
              "<div>\n",
              "<style scoped>\n",
              "    .dataframe tbody tr th:only-of-type {\n",
              "        vertical-align: middle;\n",
              "    }\n",
              "\n",
              "    .dataframe tbody tr th {\n",
              "        vertical-align: top;\n",
              "    }\n",
              "\n",
              "    .dataframe thead th {\n",
              "        text-align: right;\n",
              "    }\n",
              "</style>\n",
              "<table border=\"1\" class=\"dataframe\">\n",
              "  <thead>\n",
              "    <tr style=\"text-align: right;\">\n",
              "      <th></th>\n",
              "      <th></th>\n",
              "      <th>contact_number</th>\n",
              "      <th>infected_by</th>\n",
              "    </tr>\n",
              "    <tr>\n",
              "      <th>region</th>\n",
              "      <th>infection_order</th>\n",
              "      <th></th>\n",
              "      <th></th>\n",
              "    </tr>\n",
              "  </thead>\n",
              "  <tbody>\n",
              "    <tr>\n",
              "      <th>Gwangju</th>\n",
              "      <th>2.0</th>\n",
              "      <td>1.0</td>\n",
              "      <td>16.0</td>\n",
              "    </tr>\n",
              "    <tr>\n",
              "      <th rowspan=\"2\" valign=\"top\">capital area</th>\n",
              "      <th>1.0</th>\n",
              "      <td>31.0</td>\n",
              "      <td>NaN</td>\n",
              "    </tr>\n",
              "    <tr>\n",
              "      <th>4.0</th>\n",
              "      <td>117.0</td>\n",
              "      <td>83.0</td>\n",
              "    </tr>\n",
              "  </tbody>\n",
              "</table>\n",
              "</div>"
            ],
            "text/plain": [
              "                              contact_number  infected_by\n",
              "region       infection_order                             \n",
              "Gwangju      2.0                         1.0         16.0\n",
              "capital area 1.0                        31.0          NaN\n",
              "             4.0                       117.0         83.0"
            ]
          },
          "metadata": {
            "tags": []
          },
          "execution_count": 262
        }
      ]
    },
    {
      "cell_type": "code",
      "metadata": {
        "id": "HWnltII5b7Un",
        "colab_type": "code",
        "outputId": "c0134fb9-3df9-4b86-a835-af3b1dc93bd6",
        "colab": {
          "base_uri": "https://localhost:8080/",
          "height": 266
        }
      },
      "source": [
        "#Data Visualization\n",
        "#Subplots by Hand. The most basic method of creating an axes is to use the plt.axes function\n",
        "%matplotlib inline\n",
        "import matplotlib.pyplot as plt\n",
        "plt.style.use('seaborn-white')\n",
        "\n",
        "ax1 = plt.axes()  # standard axes\n",
        "ax2 = plt.axes([0.65, 0.65, 0.2, 0.2])\n"
      ],
      "execution_count": 0,
      "outputs": [
        {
          "output_type": "display_data",
          "data": {
            "image/png": "[encoded data removed]",
            "text/plain": [
              "<Figure size 432x288 with 2 Axes>"
            ]
          },
          "metadata": {
            "tags": []
          }
        }
      ]
    },
    {
      "cell_type": "code",
      "metadata": {
        "id": "jPqcqIi2cBY8",
        "colab_type": "code",
        "outputId": "dd37fe04-ae87-4964-9ebc-fe3acf5ebc62",
        "colab": {
          "base_uri": "https://localhost:8080/",
          "height": 292
        }
      },
      "source": [
        "#The equivalent of this command within the object-oriented interface is fig.add_axes()\n",
        "\n",
        "fig = plt.figure()\n",
        "ax1 = fig.add_axes([0.1, 0.5, 0.8, 0.4],\n",
        "                   xticklabels=[], ylim=(-1.2, 1.2))\n",
        "ax2 = fig.add_axes([0.1, 0.1, 0.8, 0.4],\n",
        "                   ylim=(-1.2, 1.2))\n",
        "\n",
        "x = np.linspace(0, 10)\n",
        "ax1.plot(np.sin(x))\n",
        "ax2.plot(np.cos(x))"
      ],
      "execution_count": 0,
      "outputs": [
        {
          "output_type": "execute_result",
          "data": {
            "text/plain": [
              "[<matplotlib.lines.Line2D at 0x7f55f1c39c88>]"
            ]
          },
          "metadata": {
            "tags": []
          },
          "execution_count": 264
        },
        {
          "output_type": "display_data",
          "data": {
            "image/png": "[encoded data removed]",
            "text/plain": [
              "<Figure size 432x288 with 2 Axes>"
            ]
          },
          "metadata": {
            "tags": []
          }
        }
      ]
    },
    {
      "cell_type": "code",
      "metadata": {
        "id": "auXkZiarcEvb",
        "colab_type": "code",
        "outputId": "32f0ae80-ef22-4b1b-b2a7-29c6ab5591b4",
        "colab": {
          "base_uri": "https://localhost:8080/",
          "height": 266
        }
      },
      "source": [
        "# The lowest level of these is plt.subplot(), which creates a single subplot within a grid\n",
        "for i in range(1, 7):\n",
        "    plt.subplot(2, 3, i)\n",
        "    plt.text(0.5, 0.5, str((2, 3, i)),\n",
        "             fontsize=18, ha='center')"
      ],
      "execution_count": 0,
      "outputs": [
        {
          "output_type": "display_data",
          "data": {
            "image/png": "[encoded data removed]",
            "text/plain": [
              "<Figure size 432x288 with 6 Axes>"
            ]
          },
          "metadata": {
            "tags": []
          }
        }
      ]
    },
    {
      "cell_type": "code",
      "metadata": {
        "id": "FEPNWRIhcISS",
        "colab_type": "code",
        "outputId": "819a1040-aac9-4daa-ee4a-c7e9815e724f",
        "colab": {
          "base_uri": "https://localhost:8080/",
          "height": 266
        }
      },
      "source": [
        "# plt.subplots_adjust can be used to adjust the spacing between these plots\n",
        "fig = plt.figure()\n",
        "fig.subplots_adjust(hspace=0.4, wspace=0.4)\n",
        "for i in range(1, 7):\n",
        "    ax = fig.add_subplot(2, 3, i)\n",
        "    ax.text(0.5, 0.5, str((2, 3, i)),\n",
        "           fontsize=18, ha='center')"
      ],
      "execution_count": 0,
      "outputs": [
        {
          "output_type": "display_data",
          "data": {
            "image/png": "[encoded data removed]",
            "text/plain": [
              "<Figure size 432x288 with 6 Axes>"
            ]
          },
          "metadata": {
            "tags": []
          }
        }
      ]
    },
    {
      "cell_type": "code",
      "metadata": {
        "id": "G1cTQV1wcLh-",
        "colab_type": "code",
        "outputId": "ab04cabd-c7b4-461d-886c-49437123bf14",
        "colab": {
          "base_uri": "https://localhost:8080/",
          "height": 266
        }
      },
      "source": [
        "fig, ax = plt.subplots(2, 3, sharex='col', sharey='row')"
      ],
      "execution_count": 0,
      "outputs": [
        {
          "output_type": "display_data",
          "data": {
            "image/png": "[encoded data removed]",
            "text/plain": [
              "<Figure size 432x288 with 6 Axes>"
            ]
          },
          "metadata": {
            "tags": []
          }
        }
      ]
    },
    {
      "cell_type": "code",
      "metadata": {
        "id": "Hu3qGVI0cOZi",
        "colab_type": "code",
        "outputId": "bc7abf35-20ca-4e8b-8807-e7e7298b837a",
        "colab": {
          "base_uri": "https://localhost:8080/",
          "height": 266
        }
      },
      "source": [
        "# axes are in a two-dimensional array, indexed by [row, col]\n",
        "for i in range(2):\n",
        "    for j in range(3):\n",
        "        ax[i, j].text(0.5, 0.5, str((i, j)),\n",
        "                      fontsize=18, ha='center')\n",
        "fig"
      ],
      "execution_count": 0,
      "outputs": [
        {
          "output_type": "execute_result",
          "data": {
            "image/png": "[encoded data removed]",
            "text/plain": [
              "<Figure size 432x288 with 6 Axes>"
            ]
          },
          "metadata": {
            "tags": []
          },
          "execution_count": 268
        }
      ]
    },
    {
      "cell_type": "code",
      "metadata": {
        "id": "D1l6FOLIcSSz",
        "colab_type": "code",
        "outputId": "d76f5e5d-54c8-4bf1-8185-ed9a38977b67",
        "colab": {
          "base_uri": "https://localhost:8080/",
          "height": 374
        }
      },
      "source": [
        "# Create some normally distributed data\n",
        "mean = [0, 0]\n",
        "cov = [[1, 1], [1, 2]]\n",
        "x, y = np.random.multivariate_normal(mean, cov, 3000).T\n",
        "\n",
        "# Set up the axes with gridspec\n",
        "fig = plt.figure(figsize=(6, 6))\n",
        "grid = plt.GridSpec(4, 4, hspace=0.2, wspace=0.2)\n",
        "main_ax = fig.add_subplot(grid[:-1, 1:])\n",
        "y_hist = fig.add_subplot(grid[:-1, 0], xticklabels=[], sharey=main_ax)\n",
        "x_hist = fig.add_subplot(grid[-1, 1:], yticklabels=[], sharex=main_ax)\n",
        "\n",
        "# scatter points on the main axes\n",
        "main_ax.plot(x, y, 'ok', markersize=3, alpha=0.2)\n",
        "\n",
        "# histogram on the attached axes\n",
        "x_hist.hist(x, 40, histtype='stepfilled',\n",
        "            orientation='vertical', color='gray')\n",
        "x_hist.invert_yaxis()\n",
        "\n",
        "y_hist.hist(y, 40, histtype='stepfilled',\n",
        "            orientation='horizontal', color='gray')\n",
        "y_hist.invert_xaxis()"
      ],
      "execution_count": 0,
      "outputs": [
        {
          "output_type": "display_data",
          "data": {
            "image/png": "[encoded data removed]",
            "text/plain": [
              "<Figure size 432x432 with 3 Axes>"
            ]
          },
          "metadata": {
            "tags": []
          }
        }
      ]
    },
    {
      "cell_type": "code",
      "metadata": {
        "id": "VGLEewO4cV8J",
        "colab_type": "code",
        "outputId": "6b91c0ba-b65e-4a14-c913-bbf697a742a4",
        "colab": {
          "base_uri": "https://localhost:8080/",
          "height": 293
        }
      },
      "source": [
        "#Scatter plots\n",
        "#Variables able to be highly correlated. To confirm or validate our hypothesis.\n",
        "#figure.savefig('.../.jpeg')\n",
        "#df_sample['ventas'] = dropna()\n",
        "df_sample.replace({' ': np.nan}, inplace=True)\n",
        "\n",
        "df_sample['contact_number2']=df_sample['contact_number']#.replace({np.nan: 0}, inplace=True)\n",
        "list(df_sample['contact_number2'].unique())\n",
        "##df_sample['region_cat2']=df_sample['region'].replace({np.nan: 0}, inplace=True)\n",
        "##df_sample['region_cat2']\n",
        "keys = list(df['region'].unique())\n",
        "vals = range(1,16)\n",
        "act = dict(zip(keys, vals))\n",
        "act\n",
        "df_sample['region_cat'] = df['region'].map(act)\n",
        "df_sample['region_cat']\n",
        "\n",
        "\n",
        "df_sample['contact_number2'] = df_sample['contact_number2'].astype('int64')\n",
        "\n",
        "df_sample['region_cat'] = df_sample['region_cat'].astype('int64')\n",
        "\n",
        "df_sample.plot(kind='scatter',x='region_cat',y='contact_number2')\n"
      ],
      "execution_count": 0,
      "outputs": [
        {
          "output_type": "execute_result",
          "data": {
            "text/plain": [
              "<matplotlib.axes._subplots.AxesSubplot at 0x7f55f130e9e8>"
            ]
          },
          "metadata": {
            "tags": []
          },
          "execution_count": 303
        },
        {
          "output_type": "display_data",
          "data": {
            "image/png": "[encoded data removed]",
            "text/plain": [
              "<Figure size 432x288 with 1 Axes>"
            ]
          },
          "metadata": {
            "tags": []
          }
        }
      ]
    },
    {
      "cell_type": "code",
      "metadata": {
        "id": "DVqGl36fcmGe",
        "colab_type": "code",
        "outputId": "5a3e0735-de67-4e18-d531-88ceb86d6d9a",
        "colab": {
          "base_uri": "https://localhost:8080/",
          "height": 308
        }
      },
      "source": [
        "#Histograms\n",
        "#Plotting histograms is a great way to visualize the distribution of a numerical variable. Plotting a histogram is a method to understand the most frequent ranges (or bins as they are called) in which the variable lies. One can also check whether the variable is normally distributed or skewed on one side.\n",
        "\n",
        "plt.hist(df_sample['region_cat'])\n",
        "plt.xlabel('region')\n",
        "plt.ylabel('Frequency')\n",
        "plt.title('Frequency of region')"
      ],
      "execution_count": 0,
      "outputs": [
        {
          "output_type": "execute_result",
          "data": {
            "text/plain": [
              "Text(0.5, 1.0, 'Frequency of region')"
            ]
          },
          "metadata": {
            "tags": []
          },
          "execution_count": 304
        },
        {
          "output_type": "display_data",
          "data": {
            "image/png": "[encoded data removed]",
            "text/plain": [
              "<Figure size 432x288 with 1 Axes>"
            ]
          },
          "metadata": {
            "tags": []
          }
        }
      ]
    },
    {
      "cell_type": "code",
      "metadata": {
        "id": "yXt-i08Kctt5",
        "colab_type": "code",
        "outputId": "b0e28181-59f7-4ec7-afb9-8582d9ab7825",
        "colab": {
          "base_uri": "https://localhost:8080/",
          "height": 396
        }
      },
      "source": [
        "plt.hist(df_sample['infection_order'])\n",
        "plt.xlabel('infection_order')\n",
        "plt.ylabel('Frequency')\n",
        "plt.title('Frequency of infection_order')"
      ],
      "execution_count": 0,
      "outputs": [
        {
          "output_type": "stream",
          "text": [
            "/usr/local/lib/python3.6/dist-packages/numpy/lib/histograms.py:839: RuntimeWarning: invalid value encountered in greater_equal\n",
            "  keep = (tmp_a >= first_edge)\n",
            "/usr/local/lib/python3.6/dist-packages/numpy/lib/histograms.py:840: RuntimeWarning: invalid value encountered in less_equal\n",
            "  keep &= (tmp_a <= last_edge)\n"
          ],
          "name": "stderr"
        },
        {
          "output_type": "execute_result",
          "data": {
            "text/plain": [
              "Text(0.5, 1.0, 'Frequency of infection_order')"
            ]
          },
          "metadata": {
            "tags": []
          },
          "execution_count": 305
        },
        {
          "output_type": "display_data",
          "data": {
            "image/png": "[encoded data removed]",
            "text/plain": [
              "<Figure size 432x288 with 1 Axes>"
            ]
          },
          "metadata": {
            "tags": []
          }
        }
      ]
    },
    {
      "cell_type": "code",
      "metadata": {
        "id": "asKCktKkcwh5",
        "colab_type": "code",
        "outputId": "244c9e58-45f4-42e5-deae-a4d1cff2ff92",
        "colab": {
          "base_uri": "https://localhost:8080/",
          "height": 294
        }
      },
      "source": [
        "#Boxplots\n",
        "\"\"\"\n",
        "Boxplots are another way to understand the distribution of a numerical variable. It specifies something called quartiles.\n",
        "\n",
        "If the numbers in a distribution with 100 numbers are arranged in an increasing order;\n",
        "\n",
        "the 1st quartile will occupy the 25th position,\n",
        "the 3rd quartile will occupy the 75th position, and so on.\n",
        "The median will be the average of the 50th and 51st terms.\n",
        "Median is the middle term when the numbers in the distribution are arranged in the increasing order.\n",
        "Mode is the one that occurs with the maximum frequency,\n",
        "while mean is the sum of all the numbers divided by their total count.\"\"\"\n",
        "#plt.boxplot(df_sample['ventas'])\n",
        "plt.boxplot(df_sample['region_cat'], showmeans=True, meanline=True)\n",
        "plt.ylabel('region count')\n",
        "plt.title('Box Plot of region count')"
      ],
      "execution_count": 0,
      "outputs": [
        {
          "output_type": "execute_result",
          "data": {
            "text/plain": [
              "Text(0.5, 1.0, 'Box Plot of region count')"
            ]
          },
          "metadata": {
            "tags": []
          },
          "execution_count": 311
        },
        {
          "output_type": "display_data",
          "data": {
            "image/png": "[encoded data removed]",
            "text/plain": [
              "<Figure size 432x288 with 1 Axes>"
            ]
          },
          "metadata": {
            "tags": []
          }
        }
      ]
    }
  ]
}